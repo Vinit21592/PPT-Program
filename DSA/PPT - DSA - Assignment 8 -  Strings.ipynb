{
 "cells": [
  {
   "cell_type": "markdown",
   "id": "615ad592",
   "metadata": {},
   "source": [
    "### Question 1\n",
    "\n",
    "Given two strings s1 and s2, return *the lowest **ASCII** sum of deleted characters to make two strings equal*.\n",
    "\n",
    "**Example 1:**\n",
    "\n",
    "**Input:** s1 = \"sea\", s2 = \"eat\"\n",
    "\n",
    "**Output:** 231"
   ]
  },
  {
   "cell_type": "code",
   "execution_count": 1,
   "id": "4fff21e6",
   "metadata": {},
   "outputs": [],
   "source": [
    "def minimumDeleteSum(s1, s2):\n",
    "    m, n = len(s1), len(s2)\n",
    "    dp = [[0] * (n + 1) for _ in range(m + 1)]\n",
    "\n",
    "    for i in range(1, m + 1):\n",
    "        dp[i][0] = dp[i - 1][0] + ord(s1[i - 1])\n",
    "\n",
    "    for j in range(1, n + 1):\n",
    "        dp[0][j] = dp[0][j - 1] + ord(s2[j - 1])\n",
    "\n",
    "    for i in range(1, m + 1):\n",
    "        for j in range(1, n + 1):\n",
    "            if s1[i - 1] == s2[j - 1]:\n",
    "                dp[i][j] = dp[i - 1][j - 1]\n",
    "            else:\n",
    "                dp[i][j] = min(dp[i - 1][j] + ord(s1[i - 1]), dp[i][j - 1] + ord(s2[j - 1]))\n",
    "\n",
    "    return dp[m][n]"
   ]
  },
  {
   "cell_type": "code",
   "execution_count": 2,
   "id": "3a0f96b5",
   "metadata": {},
   "outputs": [
    {
     "name": "stdout",
     "output_type": "stream",
     "text": [
      "231\n"
     ]
    }
   ],
   "source": [
    "s1 = \"sea\"\n",
    "s2 = \"eat\"\n",
    "print(minimumDeleteSum(s1, s2))"
   ]
  },
  {
   "cell_type": "markdown",
   "id": "8e23b6c2",
   "metadata": {},
   "source": [
    "### Question 2\n",
    "\n",
    "Given a string s containing only three types of characters: '(', ')' and '*', return true *if* s *is **valid***.\n",
    "\n",
    "The following rules define a **valid** string:\n",
    "\n",
    "- Any left parenthesis '(' must have a corresponding right parenthesis ')'.\n",
    "- Any right parenthesis ')' must have a corresponding left parenthesis '('.\n",
    "- Left parenthesis '(' must go before the corresponding right parenthesis ')'.\n",
    "- '*' could be treated as a single right parenthesis ')' or a single left parenthesis '(' or an empty string \"\".\n",
    "\n",
    "**Example 1:**\n",
    "\n",
    "**Input:** s = \"()\"\n",
    "\n",
    "**Output:**\n",
    "\n",
    "true"
   ]
  },
  {
   "cell_type": "code",
   "execution_count": 3,
   "id": "5005efcf",
   "metadata": {},
   "outputs": [],
   "source": [
    "def checkValidString(s):\n",
    "    stack = []\n",
    "    asterisks = []\n",
    "\n",
    "    for i, ch in enumerate(s):\n",
    "        if ch == '(':\n",
    "            stack.append(i)\n",
    "        elif ch == '*':\n",
    "            asterisks.append(i)\n",
    "        else:  # ch == ')'\n",
    "            if stack:\n",
    "                stack.pop()\n",
    "            elif asterisks:\n",
    "                asterisks.pop()\n",
    "            else:\n",
    "                return False\n",
    "\n",
    "    while stack and asterisks:\n",
    "        if stack[-1] > asterisks[-1]:\n",
    "            return False\n",
    "        stack.pop()\n",
    "        asterisks.pop()\n",
    "\n",
    "    return len(stack) == 0"
   ]
  },
  {
   "cell_type": "code",
   "execution_count": 4,
   "id": "eea44d54",
   "metadata": {},
   "outputs": [
    {
     "name": "stdout",
     "output_type": "stream",
     "text": [
      "True\n"
     ]
    }
   ],
   "source": [
    "s = \"()\"\n",
    "print(checkValidString(s))"
   ]
  },
  {
   "cell_type": "markdown",
   "id": "79a33508",
   "metadata": {},
   "source": [
    "### Question 3\n",
    "\n",
    "Given two strings word1 and word2, return *the minimum number of **steps** required to make* word1 *and* word2 *the same*.\n",
    "\n",
    "In one **step**, you can delete exactly one character in either string.\n",
    "\n",
    "**Example 1:**\n",
    "\n",
    "**Input:** word1 = \"sea\", word2 = \"eat\"\n",
    "\n",
    "**Output:** 2"
   ]
  },
  {
   "cell_type": "code",
   "execution_count": 5,
   "id": "223514af",
   "metadata": {},
   "outputs": [],
   "source": [
    "def minDistance(word1, word2):\n",
    "    m, n = len(word1), len(word2)\n",
    "    dp = [[0] * (n + 1) for _ in range(m + 1)]\n",
    "\n",
    "    for i in range(1, m + 1):\n",
    "        dp[i][0] = i\n",
    "\n",
    "    for j in range(1, n + 1):\n",
    "        dp[0][j] = j\n",
    "\n",
    "    for i in range(1, m + 1):\n",
    "        for j in range(1, n + 1):\n",
    "            if word1[i - 1] == word2[j - 1]:\n",
    "                dp[i][j] = dp[i - 1][j - 1]\n",
    "            else:\n",
    "                dp[i][j] = min(dp[i - 1][j], dp[i][j - 1]) + 1\n",
    "\n",
    "    return dp[m][n]"
   ]
  },
  {
   "cell_type": "code",
   "execution_count": 6,
   "id": "5a1beb89",
   "metadata": {},
   "outputs": [
    {
     "name": "stdout",
     "output_type": "stream",
     "text": [
      "2\n"
     ]
    }
   ],
   "source": [
    "word1 = \"sea\"\n",
    "word2 = \"eat\"\n",
    "print(minDistance(word1, word2))"
   ]
  },
  {
   "cell_type": "markdown",
   "id": "73af4b24",
   "metadata": {},
   "source": [
    "### Question 4\n",
    "\n",
    "You need to construct a binary tree from a string consisting of parenthesis and integers.\n",
    "\n",
    "The whole input represents a binary tree. It contains an integer followed by zero, one or two pairs of parenthesis. The integer represents the root's value and a pair of parenthesis contains a child binary tree with the same structure.\n",
    "You always start to construct the **left** child node of the parent first if it exists.\n",
    "\n",
    "**Input:** s = \"4(2(3)(1))(6(5))\"\n",
    "\n",
    "**Output:** [4,2,6,3,1,5]"
   ]
  },
  {
   "cell_type": "code",
   "execution_count": 15,
   "id": "6a148fb2",
   "metadata": {},
   "outputs": [
    {
     "name": "stdout",
     "output_type": "stream",
     "text": [
      "[3, 2, 1, 4, 5, 6]\n"
     ]
    }
   ],
   "source": [
    "class TreeNode:\n",
    "    def __init__(self, val=0, left=None, right=None):\n",
    "        self.val = val\n",
    "        self.left = left\n",
    "        self.right = right\n",
    "\n",
    "\n",
    "def constructTree(s, start):\n",
    "    if start >= len(s) or s[start] == ')':\n",
    "        return None, start\n",
    "\n",
    "    # Find the value of the current node\n",
    "    value = \"\"\n",
    "    while start < len(s) and s[start] not in ['(', ')']:\n",
    "        value += s[start]\n",
    "        start += 1\n",
    "\n",
    "    node = TreeNode(int(value))\n",
    "\n",
    "    # Check if there is a left child\n",
    "    if start < len(s) and s[start] == '(':\n",
    "        start += 1\n",
    "        node.left, start = constructTree(s, start)\n",
    "\n",
    "    # Check if there is a right child\n",
    "    if start < len(s) and s[start] == '(':\n",
    "        start += 1\n",
    "        node.right, start = constructTree(s, start)\n",
    "\n",
    "    # Skip the closing parenthesis\n",
    "    if start < len(s) and s[start] == ')':\n",
    "        start += 1\n",
    "\n",
    "    return node, start\n",
    "\n",
    "\n",
    "def constructBinaryTree(s):\n",
    "    if not s:\n",
    "        return None\n",
    "\n",
    "    root, _ = constructTree(s, 0)\n",
    "    return root\n",
    "\n",
    "\n",
    "def inorderTraversal(root):\n",
    "    if not root:\n",
    "        return []\n",
    "\n",
    "    result = []\n",
    "    stack = []\n",
    "\n",
    "    while root or stack:\n",
    "        while root:\n",
    "            stack.append(root)\n",
    "            root = root.left\n",
    "\n",
    "        node = stack.pop()\n",
    "        result.append(node.val)\n",
    "\n",
    "        root = node.right\n",
    "\n",
    "    return result\n",
    "\n",
    "\n",
    "# Test the example\n",
    "s = \"4(2(3)(1))(6(5))\"\n",
    "tree = constructBinaryTree(s)\n",
    "result = inorderTraversal(tree)\n",
    "print(result)"
   ]
  },
  {
   "cell_type": "markdown",
   "id": "d6eee2ea",
   "metadata": {},
   "source": [
    "### Question 5\n",
    "\n",
    "Given an array of characters chars, compress it using the following algorithm:\n",
    "\n",
    "Begin with an empty string s. For each group of **consecutive repeating characters** in chars:\n",
    "\n",
    "- If the group's length is 1, append the character to s.\n",
    "- Otherwise, append the character followed by the group's length.\n",
    "\n",
    "The compressed string s **should not be returned separately**, but instead, be stored **in the input character array chars**. Note that group lengths that are 10 or longer will be split into multiple characters in chars.\n",
    "\n",
    "After you are done **modifying the input array,** return *the new length of the array*.\n",
    "\n",
    "You must write an algorithm that uses only constant extra space.\n",
    "\n",
    "**Example 1:**\n",
    "\n",
    "**Input:** chars = [\"a\",\"a\",\"b\",\"b\",\"c\",\"c\",\"c\"]\n",
    "\n",
    "**Output:** Return 6, and the first 6 characters of the input array should be: [\"a\",\"2\",\"b\",\"2\",\"c\",\"3\"]"
   ]
  },
  {
   "cell_type": "code",
   "execution_count": 16,
   "id": "1d09f688",
   "metadata": {},
   "outputs": [],
   "source": [
    "def compress(chars):\n",
    "    curr = 0\n",
    "    compressed = 0\n",
    "    count = 1\n",
    "\n",
    "    for i in range(1, len(chars)):\n",
    "        if chars[i] == chars[i - 1]:\n",
    "            count += 1\n",
    "        else:\n",
    "            chars[compressed] = chars[curr]\n",
    "            compressed += 1\n",
    "\n",
    "            if count > 1:\n",
    "                count_str = str(count)\n",
    "                for digit in count_str:\n",
    "                    chars[compressed] = digit\n",
    "                    compressed += 1\n",
    "\n",
    "            count = 1\n",
    "            curr = i\n",
    "\n",
    "    chars[compressed] = chars[curr]\n",
    "    compressed += 1\n",
    "\n",
    "    if count > 1:\n",
    "        count_str = str(count)\n",
    "        for digit in count_str:\n",
    "            chars[compressed] = digit\n",
    "            compressed += 1\n",
    "\n",
    "    return compressed"
   ]
  },
  {
   "cell_type": "code",
   "execution_count": 17,
   "id": "7775f45c",
   "metadata": {},
   "outputs": [
    {
     "name": "stdout",
     "output_type": "stream",
     "text": [
      "6\n"
     ]
    }
   ],
   "source": [
    "chars = [\"a\",\"a\",\"b\",\"b\",\"c\",\"c\",\"c\"]\n",
    "print(compress(chars))"
   ]
  },
  {
   "cell_type": "markdown",
   "id": "3636aa20",
   "metadata": {},
   "source": [
    "### Question 6\n",
    "\n",
    "Given two strings s and p, return *an array of all the start indices of* p*'s anagrams in* s. You may return the answer in **any order**.\n",
    "\n",
    "An **Anagram** is a word or phrase formed by rearranging the letters of a different word or phrase, typically using all the original letters exactly once.\n",
    "\n",
    "**Example 1:**\n",
    "\n",
    "**Input:** s = \"cbaebabacd\", p = \"abc\"\n",
    "\n",
    "**Output:** [0,6]\n",
    "\n",
    "**Explanation:**\n",
    "\n",
    "The substring with start index = 0 is \"cba\", which is an anagram of \"abc\".\n",
    "\n",
    "The substring with start index = 6 is \"bac\", which is an anagram of \"abc\"."
   ]
  },
  {
   "cell_type": "code",
   "execution_count": 20,
   "id": "4005d864",
   "metadata": {},
   "outputs": [],
   "source": [
    "def findAnagrams(s, p):\n",
    "    target = {}\n",
    "    window = {}\n",
    "    result = []\n",
    "    count = 0\n",
    "\n",
    "    for char in p:\n",
    "        target[char] = target.get(char, 0) + 1\n",
    "\n",
    "    left = right = 0\n",
    "    while right < len(s):\n",
    "        window[s[right]] = window.get(s[right], 0) + 1\n",
    "        if window[s[right]] == target.get(s[right], 0):\n",
    "            count += 1\n",
    "\n",
    "        if right - left + 1 == len(p):\n",
    "            if count == len(p):\n",
    "                result.append(left)\n",
    "\n",
    "            window[s[left]] -= 1\n",
    "            if window[s[left]] < target.get(s[left], 0):\n",
    "                count -= 1\n",
    "\n",
    "            left += 1\n",
    "\n",
    "        right += 1\n",
    "\n",
    "    return result"
   ]
  },
  {
   "cell_type": "code",
   "execution_count": 21,
   "id": "8f02a700",
   "metadata": {},
   "outputs": [
    {
     "name": "stdout",
     "output_type": "stream",
     "text": [
      "[0, 6]\n"
     ]
    }
   ],
   "source": [
    "s = \"cbaebabacd\"\n",
    "p = \"abc\"\n",
    "print(findAnagrams(s, p))"
   ]
  },
  {
   "cell_type": "markdown",
   "id": "649b14e3",
   "metadata": {},
   "source": [
    "### Question 7\n",
    "\n",
    "Given an encoded string, return its decoded string.\n",
    "\n",
    "The encoding rule is: k[encoded_string], where the encoded_string inside the square brackets is being repeated exactly k times. Note that k is guaranteed to be a positive integer.\n",
    "\n",
    "You may assume that the input string is always valid; there are no extra white spaces, square brackets are well-formed, etc. Furthermore, you may assume that the original data does not contain any digits and that digits are only for those repeat numbers, k. For example, there will not be input like 3a or 2[4].\n",
    "\n",
    "The test cases are generated so that the length of the output will never exceed 105.\n",
    "\n",
    "**Example 1:**\n",
    "\n",
    "**Input:** s = \"3[a]2[bc]\"\n",
    "\n",
    "**Output:** \"aaabcbc\""
   ]
  },
  {
   "cell_type": "code",
   "execution_count": 24,
   "id": "c8b8f114",
   "metadata": {},
   "outputs": [],
   "source": [
    "def decodeString(s):\n",
    "    stack = []\n",
    "    result = \"\"\n",
    "    num = \"\"\n",
    "\n",
    "    for c in s:\n",
    "        if c.isdigit():\n",
    "            num += c\n",
    "        elif c == \"[\":\n",
    "            stack.append((int(num), result))\n",
    "            result = \"\"\n",
    "            num = \"\"\n",
    "        elif c == \"]\":\n",
    "            repetition_count, substring = stack.pop()\n",
    "            result = substring + repetition_count * result\n",
    "        else:\n",
    "            result += c\n",
    "\n",
    "    return result"
   ]
  },
  {
   "cell_type": "code",
   "execution_count": 25,
   "id": "1ab2ff6c",
   "metadata": {},
   "outputs": [
    {
     "name": "stdout",
     "output_type": "stream",
     "text": [
      "aaabcbc\n"
     ]
    }
   ],
   "source": [
    "s = \"3[a]2[bc]\"\n",
    "print(decodeString(s))"
   ]
  },
  {
   "cell_type": "markdown",
   "id": "4d8bb5e3",
   "metadata": {},
   "source": [
    "### Question 8\n",
    "\n",
    "Given two strings s and goal, return true *if you can swap two letters in* s *so the result is equal to* goal*, otherwise, return* false*.*\n",
    "\n",
    "Swapping letters is defined as taking two indices i and j (0-indexed) such that i != j and swapping the characters at s[i] and s[j].\n",
    "\n",
    "- For example, swapping at indices 0 and 2 in \"abcd\" results in \"cbad\".\n",
    "\n",
    "**Example 1:**\n",
    "\n",
    "**Input:** s = \"ab\", goal = \"ba\"\n",
    "\n",
    "**Output:** true\n",
    "\n",
    "**Explanation:** You can swap s[0] = 'a' and s[1] = 'b' to get \"ba\", which is equal to goal."
   ]
  },
  {
   "cell_type": "code",
   "execution_count": 26,
   "id": "24d7b15d",
   "metadata": {},
   "outputs": [],
   "source": [
    "def buddyStrings(s, goal):\n",
    "    if len(s) != len(goal):\n",
    "        return False\n",
    "\n",
    "    diff_positions = []\n",
    "    diff_characters = []\n",
    "\n",
    "    for i in range(len(s)):\n",
    "        if s[i] != goal[i]:\n",
    "            diff_positions.append(i)\n",
    "            diff_characters.append(goal[i])\n",
    "\n",
    "    if len(diff_positions) == 0:\n",
    "        # If s and goal are equal, check if there are duplicate characters in s\n",
    "        return len(set(s)) < len(s)\n",
    "    elif len(diff_positions) == 2:\n",
    "        return s[diff_positions[0]] == goal[diff_positions[1]] and s[diff_positions[1]] == goal[diff_positions[0]]\n",
    "    else:\n",
    "        return False"
   ]
  },
  {
   "cell_type": "code",
   "execution_count": 27,
   "id": "1cc9aaac",
   "metadata": {},
   "outputs": [
    {
     "name": "stdout",
     "output_type": "stream",
     "text": [
      "True\n"
     ]
    }
   ],
   "source": [
    "s = \"ab\"\n",
    "goal = \"ba\"\n",
    "print(buddyStrings(s, goal))"
   ]
  }
 ],
 "metadata": {
  "kernelspec": {
   "display_name": "py",
   "language": "python",
   "name": "myenv"
  },
  "language_info": {
   "codemirror_mode": {
    "name": "ipython",
    "version": 3
   },
   "file_extension": ".py",
   "mimetype": "text/x-python",
   "name": "python",
   "nbconvert_exporter": "python",
   "pygments_lexer": "ipython3",
   "version": "3.10.9"
  }
 },
 "nbformat": 4,
 "nbformat_minor": 5
}
