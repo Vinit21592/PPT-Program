{
 "cells": [
  {
   "cell_type": "markdown",
   "id": "819e4c51",
   "metadata": {},
   "source": [
    "### Question 1\n",
    "\n",
    "Given a singly linked list, delete **middle** of the linked list. For example, if given linked list is 1->2->**3**->4->5 then linked list should be modified to 1->2->4->5.If there are **even** nodes, then there would be **two middle** nodes, we need to delete the second middle element. For example, if given linked list is 1->2->3->4->5->6 then it should be modified to 1->2->3->5->6.If the input linked list is NULL or has 1 node, then it should return NULL\n",
    "\n",
    "**Example 1:**\n",
    "\n",
    "```\n",
    "Input:\n",
    "LinkedList: 1->2->3->4->5\n",
    "Output:1 2 4 5\n",
    "\n",
    "```\n",
    "\n",
    "**Example 2:**\n",
    "\n",
    "```\n",
    "Input:\n",
    "LinkedList: 2->4->6->7->5->1\n",
    "Output:2 4 6 5 1\n",
    "```"
   ]
  },
  {
   "cell_type": "code",
   "execution_count": 1,
   "id": "19383b86",
   "metadata": {},
   "outputs": [],
   "source": [
    "class ListNode:\n",
    "    def __init__(self, val=0, next=None):\n",
    "        self.val = val\n",
    "        self.next = next\n",
    "\n",
    "def deleteMiddleNode(head):\n",
    "    if head is None or head.next is None:\n",
    "        return head\n",
    "    \n",
    "    dummy = ListNode(0)\n",
    "    dummy.next = head\n",
    "    slow = dummy\n",
    "    fast = dummy\n",
    "    \n",
    "    while fast.next and fast.next.next:\n",
    "        slow = slow.next\n",
    "        fast = fast.next.next\n",
    "    \n",
    "    slow.next = slow.next.next\n",
    "    \n",
    "    return dummy.next\n",
    "\n",
    "def printLinkedList(head):\n",
    "    curr = head\n",
    "    while curr:\n",
    "        print(curr.val, end=\" \")\n",
    "        curr = curr.next\n",
    "    print()"
   ]
  },
  {
   "cell_type": "code",
   "execution_count": 2,
   "id": "bae4b0f0",
   "metadata": {},
   "outputs": [
    {
     "name": "stdout",
     "output_type": "stream",
     "text": [
      "Original Linked List:\n",
      "1 2 3 4 5 \n",
      "Modified Linked List:\n",
      "1 2 4 5 \n"
     ]
    }
   ],
   "source": [
    "# Test case 1\n",
    "head1 = ListNode(1)\n",
    "head1.next = ListNode(2)\n",
    "head1.next.next = ListNode(3)\n",
    "head1.next.next.next = ListNode(4)\n",
    "head1.next.next.next.next = ListNode(5)\n",
    "print(\"Original Linked List:\")\n",
    "printLinkedList(head1)\n",
    "head1 = deleteMiddleNode(head1)\n",
    "print(\"Modified Linked List:\")\n",
    "printLinkedList(head1)"
   ]
  },
  {
   "cell_type": "code",
   "execution_count": 3,
   "id": "9a918cb6",
   "metadata": {},
   "outputs": [
    {
     "name": "stdout",
     "output_type": "stream",
     "text": [
      "Original Linked List:\n",
      "2 4 6 7 5 1 \n",
      "Modified Linked List:\n",
      "2 4 6 5 1 \n"
     ]
    }
   ],
   "source": [
    "# Test case 2\n",
    "head2 = ListNode(2)\n",
    "head2.next = ListNode(4)\n",
    "head2.next.next = ListNode(6)\n",
    "head2.next.next.next = ListNode(7)\n",
    "head2.next.next.next.next = ListNode(5)\n",
    "head2.next.next.next.next.next = ListNode(1)\n",
    "print(\"Original Linked List:\")\n",
    "printLinkedList(head2)\n",
    "head2 = deleteMiddleNode(head2)\n",
    "print(\"Modified Linked List:\")\n",
    "printLinkedList(head2)"
   ]
  },
  {
   "cell_type": "markdown",
   "id": "b5883030",
   "metadata": {},
   "source": [
    "### Question 2\n",
    "\n",
    "Given a linked list of **N** nodes. The task is to check if the linked list has a loop. Linked list can contain self loop.\n",
    "\n",
    "**Example 1:**\n",
    "\n",
    "```\n",
    "Input:\n",
    "N = 3\n",
    "value[] = {1,3,4}\n",
    "x(position at which tail is connected) = 2\n",
    "Output:True\n",
    "Explanation:In above test case N = 3.\n",
    "The linked list with nodes N = 3 is\n",
    "given. Then value of x=2 is given which\n",
    "means last node is connected with xth\n",
    "node of linked list. Therefore, there\n",
    "exists a loop.\n",
    "```\n",
    "\n",
    "**Example 2:**\n",
    "\n",
    "```\n",
    "Input:\n",
    "N = 4\n",
    "value[] = {1,8,3,4}\n",
    "x = 0\n",
    "Output:False\n",
    "Explanation:For N = 4 ,x = 0 means\n",
    "then lastNode->next = NULL, then\n",
    "the Linked list does not contains\n",
    "any loop.\n",
    "```"
   ]
  },
  {
   "cell_type": "code",
   "execution_count": 4,
   "id": "7354b8aa",
   "metadata": {},
   "outputs": [],
   "source": [
    "class ListNode:\n",
    "    def __init__(self, val=0, next=None):\n",
    "        self.val = val\n",
    "        self.next = next\n",
    "\n",
    "def hasLoop(head):\n",
    "    if head is None or head.next is None:\n",
    "        return False\n",
    "    \n",
    "    slow = head\n",
    "    fast = head.next\n",
    "    \n",
    "    while fast and fast.next:\n",
    "        if slow == fast:\n",
    "            return True\n",
    "        slow = slow.next\n",
    "        fast = fast.next.next\n",
    "    \n",
    "    return False"
   ]
  },
  {
   "cell_type": "code",
   "execution_count": 5,
   "id": "4331635c",
   "metadata": {},
   "outputs": [
    {
     "name": "stdout",
     "output_type": "stream",
     "text": [
      "True\n"
     ]
    }
   ],
   "source": [
    "# Test case 1\n",
    "head1 = ListNode(1)\n",
    "head1.next = ListNode(3)\n",
    "head1.next.next = ListNode(4)\n",
    "head1.next.next.next = head1.next\n",
    "print(hasLoop(head1))"
   ]
  },
  {
   "cell_type": "code",
   "execution_count": 6,
   "id": "ccfe8a35",
   "metadata": {},
   "outputs": [
    {
     "name": "stdout",
     "output_type": "stream",
     "text": [
      "False\n"
     ]
    }
   ],
   "source": [
    "# Test case 2\n",
    "head2 = ListNode(1)\n",
    "head2.next = ListNode(8)\n",
    "head2.next.next = ListNode(3)\n",
    "head2.next.next.next = ListNode(4)\n",
    "print(hasLoop(head2))"
   ]
  },
  {
   "cell_type": "markdown",
   "id": "eb6099ae",
   "metadata": {},
   "source": [
    "### Question 3\n",
    "\n",
    "Given a linked list consisting of **L** nodes and given a number **N**. The task is to find the **N**th node from the end of the linked list.\n",
    "\n",
    "**Example 1:**\n",
    "\n",
    "```\n",
    "Input:\n",
    "N = 2\n",
    "LinkedList: 1->2->3->4->5->6->7->8->9\n",
    "Output:8\n",
    "Explanation:In the first example, there\n",
    "are 9 nodes in linked list and we need\n",
    "to find 2nd node from end. 2nd node\n",
    "from end is 8.\n",
    "\n",
    "```\n",
    "\n",
    "**Example 2:**\n",
    "\n",
    "```\n",
    "Input:\n",
    "N = 5\n",
    "LinkedList: 10->5->100->5\n",
    "Output:-1\n",
    "Explanation:In the second example, there\n",
    "are 4 nodes in the linked list and we\n",
    "need to find 5th from the end. Since 'n'\n",
    "is more than the number of nodes in the\n",
    "linked list, the output is -1.\n",
    "```"
   ]
  },
  {
   "cell_type": "code",
   "execution_count": 7,
   "id": "64ff7437",
   "metadata": {},
   "outputs": [],
   "source": [
    "class ListNode:\n",
    "    def __init__(self, val=0, next=None):\n",
    "        self.val = val\n",
    "        self.next = next\n",
    "\n",
    "def findNthFromEnd(head, N):\n",
    "    if head is None:\n",
    "        return -1\n",
    "    \n",
    "    main_ptr = head\n",
    "    ref_ptr = head\n",
    "    \n",
    "    # Move the reference pointer N positions ahead\n",
    "    for _ in range(N):\n",
    "        if ref_ptr is None:\n",
    "            return -1\n",
    "        ref_ptr = ref_ptr.next\n",
    "    \n",
    "    # Move both pointers one position at a time\n",
    "    while ref_ptr:\n",
    "        main_ptr = main_ptr.next\n",
    "        ref_ptr = ref_ptr.next\n",
    "    \n",
    "    return main_ptr.val"
   ]
  },
  {
   "cell_type": "code",
   "execution_count": 8,
   "id": "232f0d54",
   "metadata": {},
   "outputs": [
    {
     "name": "stdout",
     "output_type": "stream",
     "text": [
      "8\n"
     ]
    }
   ],
   "source": [
    "# Test case 1\n",
    "head1 = ListNode(1)\n",
    "head1.next = ListNode(2)\n",
    "head1.next.next = ListNode(3)\n",
    "head1.next.next.next = ListNode(4)\n",
    "head1.next.next.next.next = ListNode(5)\n",
    "head1.next.next.next.next.next = ListNode(6)\n",
    "head1.next.next.next.next.next.next = ListNode(7)\n",
    "head1.next.next.next.next.next.next.next = ListNode(8)\n",
    "head1.next.next.next.next.next.next.next.next = ListNode(9)\n",
    "N1 = 2\n",
    "print(findNthFromEnd(head1, N1))"
   ]
  },
  {
   "cell_type": "code",
   "execution_count": 9,
   "id": "cee932f1",
   "metadata": {},
   "outputs": [
    {
     "name": "stdout",
     "output_type": "stream",
     "text": [
      "-1\n"
     ]
    }
   ],
   "source": [
    "# Test case 2\n",
    "head2 = ListNode(10)\n",
    "head2.next = ListNode(5)\n",
    "head2.next.next = ListNode(100)\n",
    "head2.next.next.next = ListNode(5)\n",
    "N2 = 5\n",
    "print(findNthFromEnd(head2, N2))"
   ]
  },
  {
   "cell_type": "markdown",
   "id": "804e6234",
   "metadata": {},
   "source": [
    "### Question 4\n",
    "\n",
    "Given a singly linked list of characters, write a function that returns true if the given list is a palindrome, else false.\n",
    "\n",
    "\n",
    "**Examples:**\n",
    "\n",
    "> Input: R->A->D->A->R->NULL\n",
    "> \n",
    "> \n",
    "> **Output:** Yes\n",
    "> \n",
    "> **Input:** C->O->D->E->NULL\n",
    "> \n",
    "> **Output:** No"
   ]
  },
  {
   "cell_type": "code",
   "execution_count": 10,
   "id": "06ee418a",
   "metadata": {},
   "outputs": [],
   "source": [
    "class ListNode:\n",
    "    def __init__(self, val=0, next=None):\n",
    "        self.val = val\n",
    "        self.next = next\n",
    "\n",
    "def isPalindrome(head):\n",
    "    if head is None or head.next is None:\n",
    "        return True\n",
    "\n",
    "    # Step 1: Find the middle of the linked list\n",
    "    slow = head\n",
    "    fast = head\n",
    "    while fast and fast.next:\n",
    "        slow = slow.next\n",
    "        fast = fast.next.next\n",
    "\n",
    "    # Step 2: Reverse the second half of the linked list\n",
    "    prev = None\n",
    "    curr = slow\n",
    "    while curr:\n",
    "        next_node = curr.next\n",
    "        curr.next = prev\n",
    "        prev = curr\n",
    "        curr = next_node\n",
    "\n",
    "    # Step 3: Compare the first half with the reversed second half\n",
    "    second_half = prev\n",
    "    while second_half:\n",
    "        if head.val != second_half.val:\n",
    "            return False\n",
    "        head = head.next\n",
    "        second_half = second_half.next\n",
    "\n",
    "    # Step 4: Restore the original linked list by reversing the second half again\n",
    "    prev = None\n",
    "    curr = prev\n",
    "    while second_half:\n",
    "        next_node = second_half.next\n",
    "        second_half.next = prev\n",
    "        prev = second_half\n",
    "        second_half = next_node\n",
    "\n",
    "    return True"
   ]
  },
  {
   "cell_type": "code",
   "execution_count": 11,
   "id": "202fe822",
   "metadata": {},
   "outputs": [
    {
     "name": "stdout",
     "output_type": "stream",
     "text": [
      "True\n"
     ]
    }
   ],
   "source": [
    "# Test case 1\n",
    "head1 = ListNode('R')\n",
    "head1.next = ListNode('A')\n",
    "head1.next.next = ListNode('D')\n",
    "head1.next.next.next = ListNode('A')\n",
    "head1.next.next.next.next = ListNode('R')\n",
    "print(isPalindrome(head1))"
   ]
  },
  {
   "cell_type": "code",
   "execution_count": 12,
   "id": "a06d0757",
   "metadata": {},
   "outputs": [
    {
     "name": "stdout",
     "output_type": "stream",
     "text": [
      "False\n"
     ]
    }
   ],
   "source": [
    "# Test case 2\n",
    "head2 = ListNode('C')\n",
    "head2.next = ListNode('O')\n",
    "head2.next.next = ListNode('D')\n",
    "head2.next.next.next = ListNode('E')\n",
    "print(isPalindrome(head2))"
   ]
  },
  {
   "cell_type": "markdown",
   "id": "52d720ca",
   "metadata": {},
   "source": [
    "### Question 5\n",
    "\n",
    "Given a linked list of **N** nodes such that it may contain a loop.\n",
    "\n",
    "A loop here means that the last node of the link list is connected to the node at position X(1-based index). If the link list does not have any loop, X=0.\n",
    "\n",
    "Remove the loop from the linked list, if it is present, i.e. unlink the last node which is forming the loop.\n",
    "\n",
    "**Example 1:**\n",
    "\n",
    "```\n",
    "Input:\n",
    "N = 3\n",
    "value[] = {1,3,4}\n",
    "X = 2\n",
    "Output:1\n",
    "Explanation:The link list looks like\n",
    "1 -> 3 -> 4\n",
    "     ^    |\n",
    "     |____|\n",
    "A loop is present. If you remove it\n",
    "successfully, the answer will be 1.\n",
    "\n",
    "```\n",
    "\n",
    "**Example 2:**\n",
    "\n",
    "```\n",
    "Input:\n",
    "N = 4\n",
    "value[] = {1,8,3,4}\n",
    "X = 0\n",
    "Output:1\n",
    "Explanation:The Linked list does not\n",
    "contains any loop.\n",
    "```\n",
    "\n",
    "**Example 3:**\n",
    "\n",
    "```\n",
    "Input:\n",
    "N = 4\n",
    "value[] = {1,2,3,4}\n",
    "X = 1\n",
    "Output:1\n",
    "Explanation:The link list looks like\n",
    "1 -> 2 -> 3 -> 4\n",
    "^              |\n",
    "|______________|\n",
    "A loop is present.\n",
    "If you remove it successfully,\n",
    "the answer will be 1.\n",
    "```"
   ]
  },
  {
   "cell_type": "code",
   "execution_count": 13,
   "id": "13605cb8",
   "metadata": {},
   "outputs": [],
   "source": [
    "class ListNode:\n",
    "    def __init__(self, val=0, next=None):\n",
    "        self.val = val\n",
    "        self.next = next\n",
    "\n",
    "def detectAndRemoveLoop(head):\n",
    "    if head is None or head.next is None:\n",
    "        return\n",
    "\n",
    "    slow = head\n",
    "    fast = head\n",
    "\n",
    "    # Detect the loop\n",
    "    while fast and fast.next:\n",
    "        slow = slow.next\n",
    "        fast = fast.next.next\n",
    "        if slow == fast:\n",
    "            break\n",
    "\n",
    "    if slow != fast:\n",
    "        return\n",
    "\n",
    "    # Remove the loop\n",
    "    slow = head\n",
    "    while slow.next != fast.next:\n",
    "        slow = slow.next\n",
    "        fast = fast.next\n",
    "\n",
    "    fast.next = None\n",
    "\n",
    "def printLinkedList(head):\n",
    "    curr = head\n",
    "    while curr:\n",
    "        print(curr.val, end=\" \")\n",
    "        curr = curr.next\n",
    "    print()"
   ]
  },
  {
   "cell_type": "code",
   "execution_count": 14,
   "id": "9ab354eb",
   "metadata": {},
   "outputs": [
    {
     "name": "stdout",
     "output_type": "stream",
     "text": [
      "1 3 4 \n"
     ]
    }
   ],
   "source": [
    "# Test case 1\n",
    "head1 = ListNode(1)\n",
    "head1.next = ListNode(3)\n",
    "head1.next.next = ListNode(4)\n",
    "head1.next.next.next = head1.next\n",
    "detectAndRemoveLoop(head1)\n",
    "printLinkedList(head1)"
   ]
  },
  {
   "cell_type": "code",
   "execution_count": 15,
   "id": "6605abeb",
   "metadata": {},
   "outputs": [
    {
     "name": "stdout",
     "output_type": "stream",
     "text": [
      "1 8 3 4 \n"
     ]
    }
   ],
   "source": [
    "# Test case 2\n",
    "head2 = ListNode(1)\n",
    "head2.next = ListNode(8)\n",
    "head2.next.next = ListNode(3)\n",
    "head2.next.next.next = ListNode(4)\n",
    "detectAndRemoveLoop(head2)\n",
    "printLinkedList(head2)"
   ]
  },
  {
   "cell_type": "code",
   "execution_count": 16,
   "id": "46137395",
   "metadata": {},
   "outputs": [
    {
     "name": "stdout",
     "output_type": "stream",
     "text": [
      "1 \n"
     ]
    }
   ],
   "source": [
    "# Test case 3\n",
    "head3 = ListNode(1)\n",
    "head3.next = ListNode(2)\n",
    "head3.next.next = ListNode(3)\n",
    "head3.next.next.next = ListNode(4)\n",
    "head3.next.next.next.next = head3\n",
    "detectAndRemoveLoop(head3)\n",
    "printLinkedList(head3)"
   ]
  },
  {
   "cell_type": "markdown",
   "id": "bf68620f",
   "metadata": {},
   "source": [
    "### Question 6\n",
    "\n",
    "Given a linked list and two integers M and N. Traverse the linked list such that you retain M nodes then delete next N nodes, continue the same till end of the linked list.\n",
    "\n",
    "Difficulty Level: Rookie\n",
    "\n",
    "**Examples**:\n",
    "\n",
    "```\n",
    "Input:\n",
    "M = 2, N = 2\n",
    "Linked List: 1->2->3->4->5->6->7->8\n",
    "Output:\n",
    "Linked List: 1->2->5->6\n",
    "\n",
    "Input:\n",
    "M = 3, N = 2\n",
    "Linked List: 1->2->3->4->5->6->7->8->9->10\n",
    "Output:\n",
    "Linked List: 1->2->3->6->7->8\n",
    "\n",
    "Input:\n",
    "M = 1, N = 1\n",
    "Linked List: 1->2->3->4->5->6->7->8->9->10\n",
    "Output:\n",
    "Linked List: 1->3->5->7->9\n",
    "```"
   ]
  },
  {
   "cell_type": "code",
   "execution_count": 17,
   "id": "2d2a7aa9",
   "metadata": {},
   "outputs": [],
   "source": [
    "class ListNode:\n",
    "    def __init__(self, val=0, next=None):\n",
    "        self.val = val\n",
    "        self.next = next\n",
    "\n",
    "def skipMdeleteN(head, M, N):\n",
    "    if not head:\n",
    "        return head\n",
    "\n",
    "    curr = head\n",
    "    prev = None\n",
    "\n",
    "    while curr:\n",
    "        # Traverse M nodes\n",
    "        for _ in range(M):\n",
    "            if not curr:\n",
    "                return head\n",
    "            prev = curr\n",
    "            curr = curr.next\n",
    "\n",
    "        # Skip N nodes\n",
    "        for _ in range(N):\n",
    "            if not curr:\n",
    "                break\n",
    "            curr = curr.next\n",
    "\n",
    "        # Update previous node's next pointer\n",
    "        prev.next = curr\n",
    "\n",
    "    return head\n",
    "\n",
    "def printLinkedList(head):\n",
    "    curr = head\n",
    "    while curr:\n",
    "        print(curr.val, end=\" \")\n",
    "        curr = curr.next\n",
    "    print()"
   ]
  },
  {
   "cell_type": "code",
   "execution_count": 18,
   "id": "c0e38cc9",
   "metadata": {},
   "outputs": [
    {
     "name": "stdout",
     "output_type": "stream",
     "text": [
      "1 2 5 6 \n"
     ]
    }
   ],
   "source": [
    "# Test case 1\n",
    "head1 = ListNode(1)\n",
    "head1.next = ListNode(2)\n",
    "head1.next.next = ListNode(3)\n",
    "head1.next.next.next = ListNode(4)\n",
    "head1.next.next.next.next = ListNode(5)\n",
    "head1.next.next.next.next.next = ListNode(6)\n",
    "head1.next.next.next.next.next.next = ListNode(7)\n",
    "head1.next.next.next.next.next.next.next = ListNode(8)\n",
    "M1 = 2\n",
    "N1 = 2\n",
    "new_head1 = skipMdeleteN(head1, M1, N1)\n",
    "printLinkedList(new_head1)"
   ]
  },
  {
   "cell_type": "code",
   "execution_count": 19,
   "id": "6fad4ce9",
   "metadata": {},
   "outputs": [
    {
     "name": "stdout",
     "output_type": "stream",
     "text": [
      "1 2 3 6 7 8 \n"
     ]
    }
   ],
   "source": [
    "# Test case 2\n",
    "head2 = ListNode(1)\n",
    "head2.next = ListNode(2)\n",
    "head2.next.next = ListNode(3)\n",
    "head2.next.next.next = ListNode(4)\n",
    "head2.next.next.next.next = ListNode(5)\n",
    "head2.next.next.next.next.next = ListNode(6)\n",
    "head2.next.next.next.next.next.next = ListNode(7)\n",
    "head2.next.next.next.next.next.next.next = ListNode(8)\n",
    "head2.next.next.next.next.next.next.next.next = ListNode(9)\n",
    "head2.next.next.next.next.next.next.next.next.next = ListNode(10)\n",
    "M2 = 3\n",
    "N2 = 2\n",
    "new_head2 = skipMdeleteN(head2, M2, N2)\n",
    "printLinkedList(new_head2)"
   ]
  },
  {
   "cell_type": "markdown",
   "id": "068f104c",
   "metadata": {},
   "source": [
    "### Question 7\n",
    "\n",
    "Given two linked lists, insert nodes of second list into first list at alternate positions of first list.\n",
    "For example, if first list is 5->7->17->13->11 and second is 12->10->2->4->6, the first list should become 5->12->7->10->17->2->13->4->11->6 and second list should become empty. The nodes of second list should only be inserted when there are positions available. For example, if the first list is 1->2->3 and second list is 4->5->6->7->8, then first list should become 1->4->2->5->3->6 and second list to 7->8.\n",
    "\n",
    "Use of extra space is not allowed (Not allowed to create additional nodes), i.e., insertion must be done in-place. Expected time complexity is O(n) where n is number of nodes in first list."
   ]
  },
  {
   "cell_type": "code",
   "execution_count": 20,
   "id": "b04d0ee3",
   "metadata": {},
   "outputs": [],
   "source": [
    "class ListNode:\n",
    "    def __init__(self, val=0, next=None):\n",
    "        self.val = val\n",
    "        self.next = next\n",
    "\n",
    "def mergeAlternate(first_head, second_head):\n",
    "    if not first_head:\n",
    "        return second_head\n",
    "    if not second_head:\n",
    "        return first_head\n",
    "\n",
    "    first_curr = first_head\n",
    "    second_curr = second_head\n",
    "\n",
    "    while first_curr and second_curr:\n",
    "        first_next = first_curr.next\n",
    "\n",
    "        # Insert the current node from the second list into the first list\n",
    "        first_curr.next = second_curr\n",
    "        second_curr = second_curr.next\n",
    "        first_curr.next.next = first_next\n",
    "\n",
    "        # Move to the next nodes in both lists\n",
    "        first_curr = first_next\n",
    "\n",
    "    return first_head\n",
    "\n",
    "def printLinkedList(head):\n",
    "    curr = head\n",
    "    while curr:\n",
    "        print(curr.val, end=\" \")\n",
    "        curr = curr.next\n",
    "    print()"
   ]
  },
  {
   "cell_type": "code",
   "execution_count": 21,
   "id": "ab418a66",
   "metadata": {},
   "outputs": [
    {
     "name": "stdout",
     "output_type": "stream",
     "text": [
      "5 12 7 10 17 2 13 4 11 6 \n"
     ]
    }
   ],
   "source": [
    "# Test case 1\n",
    "first_head1 = ListNode(5)\n",
    "first_head1.next = ListNode(7)\n",
    "first_head1.next.next = ListNode(17)\n",
    "first_head1.next.next.next = ListNode(13)\n",
    "first_head1.next.next.next.next = ListNode(11)\n",
    "second_head1 = ListNode(12)\n",
    "second_head1.next = ListNode(10)\n",
    "second_head1.next.next = ListNode(2)\n",
    "second_head1.next.next.next = ListNode(4)\n",
    "second_head1.next.next.next.next = ListNode(6)\n",
    "merged_head1 = mergeAlternate(first_head1, second_head1)\n",
    "printLinkedList(merged_head1)"
   ]
  },
  {
   "cell_type": "code",
   "execution_count": 22,
   "id": "31d04a5c",
   "metadata": {},
   "outputs": [
    {
     "name": "stdout",
     "output_type": "stream",
     "text": [
      "1 4 2 5 3 6 \n"
     ]
    }
   ],
   "source": [
    "# Test case 2\n",
    "first_head2 = ListNode(1)\n",
    "first_head2.next = ListNode(2)\n",
    "first_head2.next.next = ListNode(3)\n",
    "second_head2 = ListNode(4)\n",
    "second_head2.next = ListNode(5)\n",
    "second_head2.next.next = ListNode(6)\n",
    "second_head2.next.next.next = ListNode(7)\n",
    "second_head2.next.next.next.next = ListNode(8)\n",
    "merged_head2 = mergeAlternate(first_head2, second_head2)\n",
    "printLinkedList(merged_head2)"
   ]
  },
  {
   "cell_type": "markdown",
   "id": "673c8eee",
   "metadata": {},
   "source": [
    "### Question 8\n",
    "\n",
    "Given a singly linked list, find if the linked list is [circular](https://www.geeksforgeeks.org/circular-linked-list/amp/) or not.\n",
    "\n",
    "> A linked list is called circular if it is not NULL-terminated and all nodes are connected in the form of a cycle. Below is an example of a circular linked list.\n",
    "> \n"
   ]
  },
  {
   "cell_type": "code",
   "execution_count": 24,
   "id": "b1872eab",
   "metadata": {},
   "outputs": [],
   "source": [
    "class ListNode:\n",
    "    def __init__(self, val=0, next=None):\n",
    "        self.val = val\n",
    "        self.next = next\n",
    "\n",
    "def isCircular(head):\n",
    "    if not head:\n",
    "        return False\n",
    "\n",
    "    slow = head\n",
    "    fast = head\n",
    "\n",
    "    while fast and fast.next:\n",
    "        slow = slow.next\n",
    "        fast = fast.next.next\n",
    "        if slow == fast:\n",
    "            return True\n",
    "\n",
    "    return False"
   ]
  },
  {
   "cell_type": "code",
   "execution_count": 25,
   "id": "116e6c04",
   "metadata": {},
   "outputs": [
    {
     "name": "stdout",
     "output_type": "stream",
     "text": [
      "True\n"
     ]
    }
   ],
   "source": [
    "# Test case 1: Circular Linked List\n",
    "head1 = ListNode(1)\n",
    "head1.next = ListNode(2)\n",
    "head1.next.next = ListNode(3)\n",
    "head1.next.next.next = ListNode(4)\n",
    "head1.next.next.next.next = head1  # Connect the last node to the first node\n",
    "print(isCircular(head1))"
   ]
  },
  {
   "cell_type": "code",
   "execution_count": 26,
   "id": "594c7ea3",
   "metadata": {},
   "outputs": [
    {
     "name": "stdout",
     "output_type": "stream",
     "text": [
      "False\n"
     ]
    }
   ],
   "source": [
    "# Test case 2: Non-Circular Linked List\n",
    "head2 = ListNode(1)\n",
    "head2.next = ListNode(2)\n",
    "head2.next.next = ListNode(3)\n",
    "head2.next.next.next = ListNode(4)\n",
    "print(isCircular(head2))"
   ]
  },
  {
   "cell_type": "code",
   "execution_count": 27,
   "id": "3ea25901",
   "metadata": {},
   "outputs": [
    {
     "name": "stdout",
     "output_type": "stream",
     "text": [
      "False\n"
     ]
    }
   ],
   "source": [
    "# Test case 3: Empty Linked List\n",
    "head3 = None\n",
    "print(isCircular(head3))"
   ]
  }
 ],
 "metadata": {
  "kernelspec": {
   "display_name": "py",
   "language": "python",
   "name": "myenv"
  },
  "language_info": {
   "codemirror_mode": {
    "name": "ipython",
    "version": 3
   },
   "file_extension": ".py",
   "mimetype": "text/x-python",
   "name": "python",
   "nbconvert_exporter": "python",
   "pygments_lexer": "ipython3",
   "version": "3.10.9"
  }
 },
 "nbformat": 4,
 "nbformat_minor": 5
}
