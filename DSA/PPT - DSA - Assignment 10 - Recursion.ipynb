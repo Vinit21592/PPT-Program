{
 "cells": [
  {
   "cell_type": "markdown",
   "id": "d70c1fbb",
   "metadata": {},
   "source": [
    "### Question 1\n",
    "\n",
    "Given an integer `n`, return *`true` if it is a power of three. Otherwise, return `false`*.\n",
    "\n",
    "An integer `n` is a power of three, if there exists an integer `x` such that `n == 3x`.\n",
    "\n",
    "**Example 1:**\n",
    "\n",
    "```\n",
    "Input: n = 27\n",
    "Output: true\n",
    "Explanation: 27 = 33\n",
    "```\n",
    "\n",
    "**Example 2:**\n",
    "\n",
    "```\n",
    "Input: n = 0\n",
    "Output: false\n",
    "Explanation: There is no x where 3x = 0.\n",
    "\n",
    "```\n",
    "\n",
    "**Example 3:**\n",
    "\n",
    "```\n",
    "Input: n = -1\n",
    "Output: false\n",
    "Explanation: There is no x where 3x = (-1).\n",
    "```"
   ]
  },
  {
   "cell_type": "code",
   "execution_count": 1,
   "id": "e40914ba",
   "metadata": {},
   "outputs": [],
   "source": [
    "def isPowerOfThree(n):\n",
    "    if n <= 0:\n",
    "        return False\n",
    "    \n",
    "    while n % 3 == 0:\n",
    "        n /= 3\n",
    "    \n",
    "    return n == 1"
   ]
  },
  {
   "cell_type": "code",
   "execution_count": 2,
   "id": "642a4471",
   "metadata": {},
   "outputs": [
    {
     "name": "stdout",
     "output_type": "stream",
     "text": [
      "True\n"
     ]
    }
   ],
   "source": [
    "print(isPowerOfThree(27))"
   ]
  },
  {
   "cell_type": "code",
   "execution_count": 3,
   "id": "52c4523f",
   "metadata": {},
   "outputs": [
    {
     "name": "stdout",
     "output_type": "stream",
     "text": [
      "False\n"
     ]
    }
   ],
   "source": [
    "print(isPowerOfThree(0))  "
   ]
  },
  {
   "cell_type": "code",
   "execution_count": 4,
   "id": "0f54a069",
   "metadata": {},
   "outputs": [
    {
     "name": "stdout",
     "output_type": "stream",
     "text": [
      "False\n"
     ]
    }
   ],
   "source": [
    "print(isPowerOfThree(-1))  "
   ]
  },
  {
   "cell_type": "markdown",
   "id": "3ed4f44a",
   "metadata": {},
   "source": [
    "### Question 2\n",
    "\n",
    "You have a list `arr` of all integers in the range `[1, n]` sorted in a strictly increasing order. Apply the following algorithm on `arr`:\n",
    "\n",
    "- Starting from left to right, remove the first number and every other number afterward until you reach the end of the list.\n",
    "- Repeat the previous step again, but this time from right to left, remove the rightmost number and every other number from the remaining numbers.\n",
    "- Keep repeating the steps again, alternating left to right and right to left, until a single number remains.\n",
    "\n",
    "Given the integer `n`, return *the last number that remains in* `arr`.\n",
    "\n",
    "**Example 1:**\n",
    "\n",
    "```\n",
    "Input: n = 9\n",
    "Output: 6\n",
    "Explanation:\n",
    "arr = [1, 2,3, 4,5, 6,7, 8,9]\n",
    "arr = [2,4, 6,8]\n",
    "arr = [2, 6]\n",
    "arr = [6]\n",
    "\n",
    "```\n",
    "\n",
    "**Example 2:**\n",
    "    \n",
    "```\n",
    "Input: n = 1\n",
    "Output: 1\n",
    "```"
   ]
  },
  {
   "cell_type": "code",
   "execution_count": 14,
   "id": "0b68f1d8",
   "metadata": {},
   "outputs": [],
   "source": [
    "def lastRemaining(n: int) -> int:\n",
    "        a1, an = 1, n\n",
    "        i, step, cnt = 0, 1, n\n",
    "        while cnt > 1:\n",
    "            if i % 2:\n",
    "                an -= step\n",
    "                if cnt % 2:\n",
    "                    a1 += step\n",
    "            else:\n",
    "                a1 += step\n",
    "                if cnt % 2:\n",
    "                    an -= step\n",
    "            cnt >>= 1\n",
    "            step <<= 1\n",
    "            i += 1\n",
    "        return a1"
   ]
  },
  {
   "cell_type": "code",
   "execution_count": 15,
   "id": "9dca8f86",
   "metadata": {},
   "outputs": [
    {
     "name": "stdout",
     "output_type": "stream",
     "text": [
      "6\n"
     ]
    }
   ],
   "source": [
    "print(lastRemaining(9))"
   ]
  },
  {
   "cell_type": "code",
   "execution_count": 16,
   "id": "5ccf9679",
   "metadata": {},
   "outputs": [
    {
     "name": "stdout",
     "output_type": "stream",
     "text": [
      "1\n"
     ]
    }
   ],
   "source": [
    "print(lastRemaining(1))"
   ]
  },
  {
   "cell_type": "markdown",
   "id": "3909a8c9",
   "metadata": {},
   "source": [
    "### Question 3\n",
    "\n",
    "**Given a set represented as a string, write a recursive code to print all subsets of it. The subsets can be printed in any order.**\n",
    "\n",
    "**Example 1:**\n",
    "\n",
    "Input :  set = “abc”\n",
    "\n",
    "Output : { “”, “a”, “b”, “c”, “ab”, “ac”, “bc”, “abc”}\n",
    "\n",
    "**Example 2:**\n",
    "\n",
    "Input : set = “abcd”\n",
    "\n",
    "Output : { “”, “a” ,”ab” ,”abc” ,”abcd”, “abd” ,”ac” ,”acd”, “ad” ,”b”, “bc” ,”bcd” ,”bd” ,”c” ,”cd” ,”d” }"
   ]
  },
  {
   "cell_type": "code",
   "execution_count": 17,
   "id": "376360c5",
   "metadata": {},
   "outputs": [],
   "source": [
    "def printSubsets(set_str, current_subset='', index=0):\n",
    "    if index == len(set_str):\n",
    "        print(current_subset)\n",
    "        return\n",
    "\n",
    "    # Recursive call without including current character\n",
    "    printSubsets(set_str, current_subset, index + 1)\n",
    "\n",
    "    # Recursive call including current character\n",
    "    printSubsets(set_str, current_subset + set_str[index], index + 1)"
   ]
  },
  {
   "cell_type": "code",
   "execution_count": 18,
   "id": "550a36ab",
   "metadata": {},
   "outputs": [
    {
     "name": "stdout",
     "output_type": "stream",
     "text": [
      "\n",
      "c\n",
      "b\n",
      "bc\n",
      "a\n",
      "ac\n",
      "ab\n",
      "abc\n"
     ]
    }
   ],
   "source": [
    "# Test case 1\n",
    "printSubsets(\"abc\")"
   ]
  },
  {
   "cell_type": "code",
   "execution_count": 19,
   "id": "e1b85b9d",
   "metadata": {},
   "outputs": [
    {
     "name": "stdout",
     "output_type": "stream",
     "text": [
      "\n",
      "d\n",
      "c\n",
      "cd\n",
      "b\n",
      "bd\n",
      "bc\n",
      "bcd\n",
      "a\n",
      "ad\n",
      "ac\n",
      "acd\n",
      "ab\n",
      "abd\n",
      "abc\n",
      "abcd\n"
     ]
    }
   ],
   "source": [
    "# Test case 2\n",
    "printSubsets(\"abcd\")"
   ]
  },
  {
   "cell_type": "markdown",
   "id": "058458b3",
   "metadata": {},
   "source": [
    "### Question 4\n",
    "\n",
    "Given a string calculate length of the string using recursion.\n",
    "\n",
    "**Examples:**\n",
    "\n",
    "Input : str = \"abcd\"\n",
    "Output :4\n",
    "\n",
    "Input : str = \"GEEKSFORGEEKS\"\n",
    "Output :13"
   ]
  },
  {
   "cell_type": "code",
   "execution_count": 20,
   "id": "3444ae1c",
   "metadata": {},
   "outputs": [],
   "source": [
    "def calculateLength(string):\n",
    "    if string == \"\":\n",
    "        return 0\n",
    "    \n",
    "    return 1 + calculateLength(string[1:])"
   ]
  },
  {
   "cell_type": "code",
   "execution_count": 21,
   "id": "b6789eba",
   "metadata": {},
   "outputs": [
    {
     "name": "stdout",
     "output_type": "stream",
     "text": [
      "4\n"
     ]
    }
   ],
   "source": [
    "# Test case 1\n",
    "print(calculateLength(\"abcd\"))"
   ]
  },
  {
   "cell_type": "code",
   "execution_count": 22,
   "id": "e05caaff",
   "metadata": {},
   "outputs": [
    {
     "name": "stdout",
     "output_type": "stream",
     "text": [
      "13\n"
     ]
    }
   ],
   "source": [
    "# Test case 2\n",
    "print(calculateLength(\"GEEKSFORGEEKS\"))"
   ]
  },
  {
   "cell_type": "markdown",
   "id": "3698089e",
   "metadata": {},
   "source": [
    "### Question 5\n",
    "\n",
    "We are given a string S, we need to find count of all contiguous substrings starting and ending with same character.\n",
    "\n",
    "**Examples :**\n",
    "```\n",
    "Input  : S = \"abcab\"\n",
    "Output : 7\n",
    "There are 15 substrings of \"abcab\"\n",
    "a, ab, abc, abca, abcab, b, bc, bca\n",
    "bcab, c, ca, cab, a, ab, b\n",
    "Out of the above substrings, there\n",
    "are 7 substrings : a, abca, b, bcab,\n",
    "c, a and b.\n",
    "\n",
    "Input  : S = \"aba\"\n",
    "Output : 4\n",
    "The substrings are a, b, a and aba\n",
    "```"
   ]
  },
  {
   "cell_type": "code",
   "execution_count": 23,
   "id": "5dbd1ef5",
   "metadata": {},
   "outputs": [],
   "source": [
    "def countSubstrings(S):\n",
    "    count = 0\n",
    "    n = len(S)\n",
    "\n",
    "    for i in range(n):\n",
    "        for j in range(i, n):\n",
    "            if S[i] == S[j]:\n",
    "                count += 1\n",
    "\n",
    "    return count"
   ]
  },
  {
   "cell_type": "code",
   "execution_count": 24,
   "id": "d460b6b7",
   "metadata": {},
   "outputs": [
    {
     "name": "stdout",
     "output_type": "stream",
     "text": [
      "7\n"
     ]
    }
   ],
   "source": [
    "# Test case 1\n",
    "print(countSubstrings(\"abcab\"))"
   ]
  },
  {
   "cell_type": "code",
   "execution_count": 25,
   "id": "8ddbeac7",
   "metadata": {},
   "outputs": [
    {
     "name": "stdout",
     "output_type": "stream",
     "text": [
      "4\n"
     ]
    }
   ],
   "source": [
    "# Test case 2\n",
    "print(countSubstrings(\"aba\"))"
   ]
  },
  {
   "cell_type": "markdown",
   "id": "10cf2496",
   "metadata": {},
   "source": [
    "### Question 6\n",
    "\n",
    "The [tower of Hanoi](https://en.wikipedia.org/wiki/Tower_of_Hanoi) is a famous puzzle where we have three rods and **N** disks. The objective of the puzzle is to move the entire stack to another rod. You are given the number of discs **N**. Initially, these discs are in the rod 1. You need to print all the steps of discs movement so that all the discs reach the 3rd rod. Also, you need to find the total moves.**Note:** The discs are arranged such that the **top disc is numbered 1** and the **bottom-most disc is numbered N**. Also, all the discs have **different sizes** and a bigger disc **cannot** be put on the top of a smaller disc. Refer the provided link to get a better clarity about the puzzle.\n",
    "\n",
    "**Example 1:**\n",
    "```\n",
    "Input:\n",
    "N = 2\n",
    "Output:\n",
    "move disk 1 from rod 1 to rod 2\n",
    "move disk 2 from rod 1 to rod 3\n",
    "move disk 1 from rod 2 to rod 3\n",
    "3\n",
    "Explanation:For N=2 , steps will be\n",
    "as follows in the example and total\n",
    "3 steps will be taken.\n",
    "```\n",
    "\n",
    "**Example 2:**\n",
    "```\n",
    "Input:\n",
    "N = 3\n",
    "Output:\n",
    "move disk 1 from rod 1 to rod 3\n",
    "move disk 2 from rod 1 to rod 2\n",
    "move disk 1 from rod 3 to rod 2\n",
    "move disk 3 from rod 1 to rod 3\n",
    "move disk 1 from rod 2 to rod 1\n",
    "move disk 2 from rod 2 to rod 3\n",
    "move disk 1 from rod 1 to rod 3\n",
    "7\n",
    "Explanation:For N=3 , steps will be\n",
    "as follows in the example and total\n",
    "7 steps will be taken.\n",
    "```"
   ]
  },
  {
   "cell_type": "code",
   "execution_count": 26,
   "id": "c727d061",
   "metadata": {},
   "outputs": [],
   "source": [
    "def towerOfHanoi(n, source, destination, auxiliary):\n",
    "    if n == 1:\n",
    "        print(\"Move disk 1 from rod\", source, \"to rod\", destination)\n",
    "        return 1\n",
    "    \n",
    "    moves = 0\n",
    "    moves += towerOfHanoi(n-1, source, auxiliary, destination)\n",
    "    print(\"Move disk\", n, \"from rod\", source, \"to rod\", destination)\n",
    "    moves += 1\n",
    "    moves += towerOfHanoi(n-1, auxiliary, destination, source)\n",
    "    \n",
    "    return moves"
   ]
  },
  {
   "cell_type": "code",
   "execution_count": 27,
   "id": "02e96d16",
   "metadata": {},
   "outputs": [
    {
     "name": "stdout",
     "output_type": "stream",
     "text": [
      "Move disk 1 from rod 1 to rod 2\n",
      "Move disk 2 from rod 1 to rod 3\n",
      "Move disk 1 from rod 2 to rod 3\n",
      "Total moves: 3\n"
     ]
    }
   ],
   "source": [
    "# Test case\n",
    "N = 2\n",
    "total_moves = towerOfHanoi(N, 1, 3, 2)\n",
    "print(\"Total moves:\", total_moves)"
   ]
  },
  {
   "cell_type": "code",
   "execution_count": 28,
   "id": "56dcc4cd",
   "metadata": {},
   "outputs": [
    {
     "name": "stdout",
     "output_type": "stream",
     "text": [
      "Move disk 1 from rod 1 to rod 3\n",
      "Move disk 2 from rod 1 to rod 2\n",
      "Move disk 1 from rod 3 to rod 2\n",
      "Move disk 3 from rod 1 to rod 3\n",
      "Move disk 1 from rod 2 to rod 1\n",
      "Move disk 2 from rod 2 to rod 3\n",
      "Move disk 1 from rod 1 to rod 3\n",
      "Total moves: 7\n"
     ]
    }
   ],
   "source": [
    "# Test case\n",
    "N = 3\n",
    "total_moves = towerOfHanoi(N, 1, 3, 2)\n",
    "print(\"Total moves:\", total_moves)"
   ]
  },
  {
   "cell_type": "markdown",
   "id": "79e66d3b",
   "metadata": {},
   "source": [
    "### Question 7\n",
    "\n",
    "Given a string **str**, the task is to print all the permutations of **str**. A **permutation** is an arrangement of all or part of a set of objects, with regard to the order of the arrangement. For instance, the words ‘bat’ and ‘tab’ represents two distinct permutation (or arrangements) of a similar three letter word.\n",
    "\n",
    "**Examples:**\n",
    "\n",
    "> Input: str = “cd”\n",
    "> \n",
    "> \n",
    "> **Output:** cd dc\n",
    "> \n",
    "> **Input:** str = “abb”\n",
    "> \n",
    "> **Output:** abb abb bab bba bab bba"
   ]
  },
  {
   "cell_type": "code",
   "execution_count": 29,
   "id": "2140bde0",
   "metadata": {},
   "outputs": [],
   "source": [
    "def permute(string, l, r):\n",
    "    if l == r:\n",
    "        print(\"\".join(string))\n",
    "    else:\n",
    "        for i in range(l, r + 1):\n",
    "            string[l], string[i] = string[i], string[l]  # Swap characters\n",
    "            permute(string, l + 1, r)  # Recursion\n",
    "            string[l], string[i] = string[i], string[l]  # Backtrack"
   ]
  },
  {
   "cell_type": "code",
   "execution_count": 30,
   "id": "597b3cbc",
   "metadata": {},
   "outputs": [
    {
     "name": "stdout",
     "output_type": "stream",
     "text": [
      "cd\n",
      "dc\n"
     ]
    }
   ],
   "source": [
    "# Test case\n",
    "str = \"cd\"\n",
    "n = len(str)\n",
    "permute(list(str), 0, n - 1)"
   ]
  },
  {
   "cell_type": "code",
   "execution_count": 31,
   "id": "b0164803",
   "metadata": {},
   "outputs": [
    {
     "name": "stdout",
     "output_type": "stream",
     "text": [
      "abb\n",
      "abb\n",
      "bab\n",
      "bba\n",
      "bba\n",
      "bab\n"
     ]
    }
   ],
   "source": [
    "# Test case\n",
    "str = \"abb\"\n",
    "n = len(str)\n",
    "permute(list(str), 0, n - 1)"
   ]
  },
  {
   "cell_type": "markdown",
   "id": "c99dbc5c",
   "metadata": {},
   "source": [
    "### Question 8\n",
    "\n",
    "Given a string, count total number of consonants in it. A consonant is an English alphabet character that is not vowel (a, e, i, o and u). Examples of constants are b, c, d, f, and g.\n",
    "\n",
    "**Examples :**\n",
    "```\n",
    "Input : abc de\n",
    "Output : 3\n",
    "There are three consonants b, c and d.\n",
    "\n",
    "Input : geeksforgeeks portal\n",
    "Output : 12\n",
    "```"
   ]
  },
  {
   "cell_type": "code",
   "execution_count": 32,
   "id": "0a2670a7",
   "metadata": {},
   "outputs": [],
   "source": [
    "def countConsonants(string):\n",
    "    consonants = \"bcdfghjklmnpqrstvwxyzBCDFGHJKLMNPQRSTVWXYZ\"\n",
    "    count = 0\n",
    "\n",
    "    for char in string:\n",
    "        if char in consonants:\n",
    "            count += 1\n",
    "\n",
    "    return count"
   ]
  },
  {
   "cell_type": "code",
   "execution_count": 33,
   "id": "11a47f52",
   "metadata": {},
   "outputs": [
    {
     "name": "stdout",
     "output_type": "stream",
     "text": [
      "3\n"
     ]
    }
   ],
   "source": [
    "# Test case 1\n",
    "print(countConsonants(\"abc de\"))"
   ]
  },
  {
   "cell_type": "code",
   "execution_count": 34,
   "id": "4731033d",
   "metadata": {},
   "outputs": [
    {
     "name": "stdout",
     "output_type": "stream",
     "text": [
      "12\n"
     ]
    }
   ],
   "source": [
    "# Test case 2\n",
    "print(countConsonants(\"geeksforgeeks portal\"))"
   ]
  }
 ],
 "metadata": {
  "kernelspec": {
   "display_name": "py",
   "language": "python",
   "name": "myenv"
  },
  "language_info": {
   "codemirror_mode": {
    "name": "ipython",
    "version": 3
   },
   "file_extension": ".py",
   "mimetype": "text/x-python",
   "name": "python",
   "nbconvert_exporter": "python",
   "pygments_lexer": "ipython3",
   "version": "3.10.9"
  }
 },
 "nbformat": 4,
 "nbformat_minor": 5
}
