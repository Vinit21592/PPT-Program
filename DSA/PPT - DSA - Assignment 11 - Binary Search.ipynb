{
 "cells": [
  {
   "cell_type": "markdown",
   "id": "4943bb30",
   "metadata": {},
   "source": [
    "### Question 1\n",
    "\n",
    "Given a non-negative integer `x`, return *the square root of* `x` *rounded down to the nearest integer*. The returned integer should be **non-negative** as well.\n",
    "\n",
    "You **must not use** any built-in exponent function or operator.\n",
    "\n",
    "- For example, do not use `pow(x, 0.5)` in c++ or `x ** 0.5` in python.\n",
    "\n",
    "**Example 1:**\n",
    "\n",
    "```\n",
    "Input: x = 4\n",
    "Output: 2\n",
    "Explanation: The square root of 4 is 2, so we return 2.\n",
    "\n",
    "```\n",
    "\n",
    "**Example 2:**\n",
    "```\n",
    "Input: x = 8\n",
    "Output: 2\n",
    "Explanation: The square root of 8 is 2.82842..., and since we round it down to the nearest integer, 2 is returned.\n",
    "```"
   ]
  },
  {
   "cell_type": "code",
   "execution_count": 1,
   "id": "def9b6bb",
   "metadata": {},
   "outputs": [],
   "source": [
    "def mySqrt(x):\n",
    "    if x == 0:\n",
    "        return 0\n",
    "    \n",
    "    left, right = 1, x\n",
    "    while left <= right:\n",
    "        mid = left + (right - left) // 2\n",
    "        if mid * mid == x:\n",
    "            return mid\n",
    "        elif mid * mid < x:\n",
    "            left = mid + 1\n",
    "        else:\n",
    "            right = mid - 1\n",
    "    \n",
    "    return right"
   ]
  },
  {
   "cell_type": "code",
   "execution_count": 2,
   "id": "c9bdc8c0",
   "metadata": {},
   "outputs": [
    {
     "name": "stdout",
     "output_type": "stream",
     "text": [
      "2\n"
     ]
    }
   ],
   "source": [
    "# Test case 1\n",
    "print(mySqrt(4))"
   ]
  },
  {
   "cell_type": "code",
   "execution_count": 3,
   "id": "8242e737",
   "metadata": {},
   "outputs": [
    {
     "name": "stdout",
     "output_type": "stream",
     "text": [
      "2\n"
     ]
    }
   ],
   "source": [
    "# Test case 2\n",
    "print(mySqrt(8))"
   ]
  },
  {
   "cell_type": "markdown",
   "id": "305a0953",
   "metadata": {},
   "source": [
    "### Question 2\n",
    "\n",
    "A peak element is an element that is strictly greater than its neighbors.\n",
    "\n",
    "Given a **0-indexed** integer array `nums`, find a peak element, and return its index. If the array contains multiple peaks, return the index to **any of the peaks**.\n",
    "\n",
    "You may imagine that `nums[-1] = nums[n] = -∞`. In other words, an element is always considered to be strictly greater than a neighbor that is outside the array.\n",
    "\n",
    "You must write an algorithm that runs in `O(log n)` time.\n",
    "\n",
    "**Example 1:**\n",
    "\n",
    "```\n",
    "Input: nums = [1,2,3,1]\n",
    "Output: 2\n",
    "Explanation: 3 is a peak element and your function should return the index number 2.\n",
    "```\n",
    "\n",
    "**Example 2:**\n",
    "\n",
    "```\n",
    "Input: nums = [1,2,1,3,5,6,4]\n",
    "Output: 5\n",
    "Explanation: Your function can return either index number 1 where the peak element is 2, or index number 5 where the peak element is 6.\n",
    "```"
   ]
  },
  {
   "cell_type": "code",
   "execution_count": 4,
   "id": "6cb1b302",
   "metadata": {},
   "outputs": [],
   "source": [
    "def findPeakElement(nums):\n",
    "    left, right = 0, len(nums) - 1\n",
    "    \n",
    "    while left < right:\n",
    "        mid = left + (right - left) // 2\n",
    "        \n",
    "        if nums[mid] < nums[mid + 1]:\n",
    "            left = mid + 1\n",
    "        else:\n",
    "            right = mid\n",
    "    \n",
    "    return left"
   ]
  },
  {
   "cell_type": "code",
   "execution_count": 5,
   "id": "c0dc774c",
   "metadata": {},
   "outputs": [
    {
     "name": "stdout",
     "output_type": "stream",
     "text": [
      "2\n"
     ]
    }
   ],
   "source": [
    "# Test case 1\n",
    "nums1 = [1, 2, 3, 1]\n",
    "print(findPeakElement(nums1))"
   ]
  },
  {
   "cell_type": "code",
   "execution_count": 6,
   "id": "ddc7699d",
   "metadata": {},
   "outputs": [
    {
     "name": "stdout",
     "output_type": "stream",
     "text": [
      "5\n"
     ]
    }
   ],
   "source": [
    "# Test case 2\n",
    "nums2 = [1, 2, 1, 3, 5, 6, 4]\n",
    "print(findPeakElement(nums2))"
   ]
  },
  {
   "cell_type": "markdown",
   "id": "1921db6f",
   "metadata": {},
   "source": [
    "### Question 3\n",
    "\n",
    "\n",
    "Given an array `nums` containing `n` distinct numbers in the range `[0, n]`, return *the only number in the range that is missing from the array.*\n",
    "\n",
    "**Example 1:**\n",
    "\n",
    "```\n",
    "Input: nums = [3,0,1]\n",
    "Output: 2\n",
    "Explanation: n = 3 since there are 3 numbers, so all numbers are in the range [0,3]. 2 is the missing number in the range since it does not appear in nums.\n",
    "\n",
    "```\n",
    "\n",
    "**Example 2:**\n",
    "\n",
    "```\n",
    "Input: nums = [0,1]\n",
    "Output: 2\n",
    "Explanation: n = 2 since there are 2 numbers, so all numbers are in the range [0,2]. 2 is the missing number in the range since it does not appear in nums.\n",
    "\n",
    "```\n",
    "\n",
    "**Example 3:**\n",
    "\n",
    "```\n",
    "Input: nums = [9,6,4,2,3,5,7,0,1]\n",
    "Output: 8\n",
    "Explanation: n = 9 since there are 9 numbers, so all numbers are in the range [0,9]. 8 is the missing number in the range since it does not appear in nums.\n",
    "```"
   ]
  },
  {
   "cell_type": "code",
   "execution_count": 7,
   "id": "9a4da102",
   "metadata": {},
   "outputs": [],
   "source": [
    "def missingNumber(nums):\n",
    "    missing = len(nums)\n",
    "    for i, num in enumerate(nums):\n",
    "        missing ^= i ^ num\n",
    "    return missing"
   ]
  },
  {
   "cell_type": "code",
   "execution_count": 8,
   "id": "71a3074d",
   "metadata": {},
   "outputs": [
    {
     "name": "stdout",
     "output_type": "stream",
     "text": [
      "2\n"
     ]
    }
   ],
   "source": [
    "# Test case 1\n",
    "nums1 = [3, 0, 1]\n",
    "print(missingNumber(nums1))"
   ]
  },
  {
   "cell_type": "code",
   "execution_count": 9,
   "id": "a4a54699",
   "metadata": {},
   "outputs": [
    {
     "name": "stdout",
     "output_type": "stream",
     "text": [
      "2\n"
     ]
    }
   ],
   "source": [
    "# Test case 2\n",
    "nums2 = [0, 1]\n",
    "print(missingNumber(nums2))"
   ]
  },
  {
   "cell_type": "code",
   "execution_count": 10,
   "id": "78ef07b4",
   "metadata": {},
   "outputs": [
    {
     "name": "stdout",
     "output_type": "stream",
     "text": [
      "8\n"
     ]
    }
   ],
   "source": [
    "# Test case 3\n",
    "nums3 = [9, 6, 4, 2, 3, 5, 7, 0, 1]\n",
    "print(missingNumber(nums3))"
   ]
  },
  {
   "cell_type": "markdown",
   "id": "70dace8d",
   "metadata": {},
   "source": [
    "### Question 4\n",
    "\n",
    "Given an array of integers `nums` containing `n + 1` integers where each integer is in the range `[1, n]` inclusive.\n",
    "\n",
    "There is only **one repeated number** in `nums`, return *this repeated number*.\n",
    "\n",
    "You must solve the problem **without** modifying the array `nums` and uses only constant extra space.\n",
    "\n",
    "**Example 1:**\n",
    "\n",
    "```\n",
    "Input: nums = [1,3,4,2,2]\n",
    "Output: 2\n",
    "\n",
    "```\n",
    "\n",
    "**Example 2:**\n",
    "\n",
    "```\n",
    "Input: nums = [3,1,3,4,2]\n",
    "Output: 3\n",
    "```"
   ]
  },
  {
   "cell_type": "code",
   "execution_count": 11,
   "id": "63a84886",
   "metadata": {},
   "outputs": [],
   "source": [
    "def findDuplicate(nums):\n",
    "    slow = nums[0]\n",
    "    fast = nums[0]\n",
    "    \n",
    "    # Phase 1: Finding the intersection point\n",
    "    while True:\n",
    "        slow = nums[slow]\n",
    "        fast = nums[nums[fast]]\n",
    "        if slow == fast:\n",
    "            break\n",
    "    \n",
    "    # Phase 2: Finding the duplicate number\n",
    "    slow = nums[0]\n",
    "    while slow != fast:\n",
    "        slow = nums[slow]\n",
    "        fast = nums[fast]\n",
    "    \n",
    "    return slow"
   ]
  },
  {
   "cell_type": "code",
   "execution_count": 12,
   "id": "665be0a7",
   "metadata": {},
   "outputs": [
    {
     "name": "stdout",
     "output_type": "stream",
     "text": [
      "2\n"
     ]
    }
   ],
   "source": [
    "# Test case 1\n",
    "nums1 = [1, 3, 4, 2, 2]\n",
    "print(findDuplicate(nums1))"
   ]
  },
  {
   "cell_type": "code",
   "execution_count": 13,
   "id": "85a9548f",
   "metadata": {},
   "outputs": [
    {
     "name": "stdout",
     "output_type": "stream",
     "text": [
      "3\n"
     ]
    }
   ],
   "source": [
    "# Test case 2\n",
    "nums2 = [3, 1, 3, 4, 2]\n",
    "print(findDuplicate(nums2))"
   ]
  },
  {
   "cell_type": "markdown",
   "id": "26265de6",
   "metadata": {},
   "source": [
    "### Question 5\n",
    "\n",
    "Given two integer arrays `nums1` and `nums2`, return *an array of their intersection*. Each element in the result must be **unique** and you may return the result in **any order**.\n",
    "\n",
    "**Example 1:**\n",
    "\n",
    "```\n",
    "Input: nums1 = [1,2,2,1], nums2 = [2,2]\n",
    "Output: [2]\n",
    "\n",
    "```\n",
    "\n",
    "**Example 2:**\n",
    "\n",
    "```\n",
    "Input: nums1 = [4,9,5], nums2 = [9,4,9,8,4]\n",
    "Output: [9,4]\n",
    "Explanation: [4,9] is also accepted.\n",
    "```"
   ]
  },
  {
   "cell_type": "code",
   "execution_count": 14,
   "id": "75df97ea",
   "metadata": {},
   "outputs": [],
   "source": [
    "def intersection(nums1, nums2):\n",
    "    set_nums1 = set(nums1)\n",
    "    result = set()\n",
    "    \n",
    "    for num in nums2:\n",
    "        if num in set_nums1:\n",
    "            result.add(num)\n",
    "    \n",
    "    return list(result)"
   ]
  },
  {
   "cell_type": "code",
   "execution_count": 15,
   "id": "d09a63f3",
   "metadata": {},
   "outputs": [
    {
     "name": "stdout",
     "output_type": "stream",
     "text": [
      "[2]\n"
     ]
    }
   ],
   "source": [
    "# Test case 1\n",
    "nums1_1 = [1, 2, 2, 1]\n",
    "nums2_1 = [2, 2]\n",
    "print(intersection(nums1_1, nums2_1))"
   ]
  },
  {
   "cell_type": "code",
   "execution_count": 16,
   "id": "cd4c8724",
   "metadata": {},
   "outputs": [
    {
     "name": "stdout",
     "output_type": "stream",
     "text": [
      "[9, 4]\n"
     ]
    }
   ],
   "source": [
    "# Test case 2\n",
    "nums1_2 = [4, 9, 5]\n",
    "nums2_2 = [9, 4, 9, 8, 4]\n",
    "print(intersection(nums1_2, nums2_2))"
   ]
  },
  {
   "cell_type": "markdown",
   "id": "16484a98",
   "metadata": {},
   "source": [
    "### Question 6\n",
    "\n",
    "Suppose an array of length `n` sorted in ascending order is **rotated** between `1` and `n` times. For example, the array `nums = [0,1,2,4,5,6,7]` might become:\n",
    "\n",
    "- `[4,5,6,7,0,1,2]` if it was rotated `4` times.\n",
    "- `[0,1,2,4,5,6,7]` if it was rotated `7` times.\n",
    "\n",
    "Notice that **rotating** an array `[a[0], a[1], a[2], ..., a[n-1]]` 1 time results in the array `[a[n-1], a[0], a[1], a[2], ..., a[n-2]]`.\n",
    "\n",
    "Given the sorted rotated array `nums` of **unique** elements, return *the minimum element of this array*.\n",
    "\n",
    "You must write an algorithm that runs in `O(log n) time.`\n",
    "\n",
    "**Example 1:**\n",
    "\n",
    "```\n",
    "Input: nums = [3,4,5,1,2]\n",
    "Output: 1\n",
    "Explanation: The original array was [1,2,3,4,5] rotated 3 times.\n",
    "\n",
    "```\n",
    "\n",
    "**Example 2:**\n",
    "\n",
    "```\n",
    "Input: nums = [4,5,6,7,0,1,2]\n",
    "Output: 0\n",
    "Explanation: The original array was [0,1,2,4,5,6,7] and it was rotated 4 times.\n",
    "\n",
    "```\n",
    "\n",
    "**Example 3:**\n",
    "\n",
    "```\n",
    "Input: nums = [11,13,15,17]\n",
    "Output: 11\n",
    "Explanation: The original array was [11,13,15,17] and it was rotated 4 times.\n",
    "```"
   ]
  },
  {
   "cell_type": "code",
   "execution_count": 17,
   "id": "a0f9efe8",
   "metadata": {},
   "outputs": [],
   "source": [
    "def findMin(nums):\n",
    "    left, right = 0, len(nums) - 1\n",
    "    \n",
    "    while left < right:\n",
    "        mid = left + (right - left) // 2\n",
    "        \n",
    "        # Check if the middle element is greater than the last element\n",
    "        if nums[mid] > nums[right]:\n",
    "            # The minimum element is in the right half\n",
    "            left = mid + 1\n",
    "        else:\n",
    "            # The minimum element is in the left half or is the middle element\n",
    "            right = mid\n",
    "    \n",
    "    return nums[left]"
   ]
  },
  {
   "cell_type": "code",
   "execution_count": 18,
   "id": "e6078a35",
   "metadata": {},
   "outputs": [
    {
     "name": "stdout",
     "output_type": "stream",
     "text": [
      "1\n"
     ]
    }
   ],
   "source": [
    "# Test case 1\n",
    "nums1 = [3, 4, 5, 1, 2]\n",
    "print(findMin(nums1))"
   ]
  },
  {
   "cell_type": "code",
   "execution_count": 19,
   "id": "fbbc1a98",
   "metadata": {},
   "outputs": [
    {
     "name": "stdout",
     "output_type": "stream",
     "text": [
      "0\n"
     ]
    }
   ],
   "source": [
    "# Test case 2\n",
    "nums2 = [4, 5, 6, 7, 0, 1, 2]\n",
    "print(findMin(nums2))"
   ]
  },
  {
   "cell_type": "code",
   "execution_count": 20,
   "id": "f59bbc67",
   "metadata": {},
   "outputs": [
    {
     "name": "stdout",
     "output_type": "stream",
     "text": [
      "11\n"
     ]
    }
   ],
   "source": [
    "# Test case 3\n",
    "nums3 = [11, 13, 15, 17]\n",
    "print(findMin(nums3))"
   ]
  },
  {
   "cell_type": "markdown",
   "id": "e2ba9c3b",
   "metadata": {},
   "source": [
    "### Question 7\n",
    "\n",
    "Given an array of integers `nums` sorted in non-decreasing order, find the starting and ending position of a given `target` value.\n",
    "\n",
    "If `target` is not found in the array, return `[-1, -1]`.\n",
    "\n",
    "You must write an algorithm with `O(log n)` runtime complexity.\n",
    "\n",
    "**Example 1:**\n",
    "\n",
    "```\n",
    "Input: nums = [5,7,7,8,8,10], target = 8\n",
    "Output: [3,4]\n",
    "\n",
    "```\n",
    "\n",
    "**Example 2:**\n",
    "\n",
    "```\n",
    "Input: nums = [5,7,7,8,8,10], target = 6\n",
    "Output: [-1,-1]\n",
    "\n",
    "```\n",
    "\n",
    "**Example 3:**\n",
    "\n",
    "```\n",
    "Input: nums = [], target = 0\n",
    "Output: [-1,-1]\n",
    "```"
   ]
  },
  {
   "cell_type": "code",
   "execution_count": 21,
   "id": "3547a1c8",
   "metadata": {},
   "outputs": [],
   "source": [
    "def searchRange(nums, target):\n",
    "    left = binarySearch(nums, target, True)\n",
    "    if left == -1:\n",
    "        return [-1, -1]\n",
    "    right = binarySearch(nums, target, False)\n",
    "    return [left, right]\n",
    "\n",
    "def binarySearch(nums, target, leftmost):\n",
    "    left, right = 0, len(nums) - 1\n",
    "    result = -1\n",
    "    \n",
    "    while left <= right:\n",
    "        mid = left + (right - left) // 2\n",
    "        if nums[mid] == target:\n",
    "            result = mid\n",
    "            if leftmost:\n",
    "                right = mid - 1\n",
    "            else:\n",
    "                left = mid + 1\n",
    "        elif nums[mid] < target:\n",
    "            left = mid + 1\n",
    "        else:\n",
    "            right = mid - 1\n",
    "    \n",
    "    return result"
   ]
  },
  {
   "cell_type": "code",
   "execution_count": 22,
   "id": "e1fe065a",
   "metadata": {},
   "outputs": [
    {
     "name": "stdout",
     "output_type": "stream",
     "text": [
      "[3, 4]\n"
     ]
    }
   ],
   "source": [
    "# Test case 1\n",
    "nums1 = [5, 7, 7, 8, 8, 10]\n",
    "target1 = 8\n",
    "print(searchRange(nums1, target1))"
   ]
  },
  {
   "cell_type": "code",
   "execution_count": 23,
   "id": "c69b77f9",
   "metadata": {},
   "outputs": [
    {
     "name": "stdout",
     "output_type": "stream",
     "text": [
      "[-1, -1]\n"
     ]
    }
   ],
   "source": [
    "# Test case 2\n",
    "nums2 = [5, 7, 7, 8, 8, 10]\n",
    "target2 = 6\n",
    "print(searchRange(nums2, target2))"
   ]
  },
  {
   "cell_type": "code",
   "execution_count": 24,
   "id": "0447843f",
   "metadata": {},
   "outputs": [
    {
     "name": "stdout",
     "output_type": "stream",
     "text": [
      "[-1, -1]\n"
     ]
    }
   ],
   "source": [
    "# Test case 3\n",
    "nums3 = []\n",
    "target3 = 0\n",
    "print(searchRange(nums3, target3))"
   ]
  },
  {
   "cell_type": "markdown",
   "id": "43a1f2db",
   "metadata": {},
   "source": [
    "### Question 8\n",
    "\n",
    "Given two integer arrays `nums1` and `nums2`, return *an array of their intersection*. Each element in the result must appear as many times as it shows in both arrays and you may return the result in **any order**.\n",
    "\n",
    "**Example 1:**\n",
    "\n",
    "```\n",
    "Input: nums1 = [1,2,2,1], nums2 = [2,2]\n",
    "Output: [2,2]\n",
    "\n",
    "```\n",
    "\n",
    "**Example 2:**\n",
    "\n",
    "```\n",
    "Input: nums1 = [4,9,5], nums2 = [9,4,9,8,4]\n",
    "Output: [4,9]\n",
    "Explanation: [9,4] is also accepted.\n",
    "```"
   ]
  },
  {
   "cell_type": "code",
   "execution_count": 25,
   "id": "83446f91",
   "metadata": {},
   "outputs": [],
   "source": [
    "from collections import Counter\n",
    "\n",
    "def intersect(nums1, nums2):\n",
    "    counter = Counter(nums1)\n",
    "    intersection = []\n",
    "    \n",
    "    for num in nums2:\n",
    "        if num in counter and counter[num] > 0:\n",
    "            intersection.append(num)\n",
    "            counter[num] -= 1\n",
    "    \n",
    "    return intersection"
   ]
  },
  {
   "cell_type": "code",
   "execution_count": 26,
   "id": "a700a042",
   "metadata": {},
   "outputs": [
    {
     "name": "stdout",
     "output_type": "stream",
     "text": [
      "[2, 2]\n"
     ]
    }
   ],
   "source": [
    "# Test case 1\n",
    "nums1_1 = [1, 2, 2, 1]\n",
    "nums2_1 = [2, 2]\n",
    "print(intersect(nums1_1, nums2_1))"
   ]
  },
  {
   "cell_type": "code",
   "execution_count": 27,
   "id": "5a1c59a5",
   "metadata": {},
   "outputs": [
    {
     "name": "stdout",
     "output_type": "stream",
     "text": [
      "[9, 4]\n"
     ]
    }
   ],
   "source": [
    "# Test case 2\n",
    "nums1_2 = [4, 9, 5]\n",
    "nums2_2 = [9, 4, 9, 8, 4]\n",
    "print(intersect(nums1_2, nums2_2))"
   ]
  }
 ],
 "metadata": {
  "kernelspec": {
   "display_name": "py",
   "language": "python",
   "name": "myenv"
  },
  "language_info": {
   "codemirror_mode": {
    "name": "ipython",
    "version": 3
   },
   "file_extension": ".py",
   "mimetype": "text/x-python",
   "name": "python",
   "nbconvert_exporter": "python",
   "pygments_lexer": "ipython3",
   "version": "3.10.9"
  }
 },
 "nbformat": 4,
 "nbformat_minor": 5
}
