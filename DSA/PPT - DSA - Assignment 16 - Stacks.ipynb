{
 "cells": [
  {
   "cell_type": "markdown",
   "id": "58ac36cd",
   "metadata": {},
   "source": [
    "### Question 1\n",
    "\n",
    "Given an array, for each element find the value of the nearest element to the right which is having a frequency greater than that of the current element. If there does not exist an answer for a position, then make the value ‘-1’.\n",
    "\n",
    "**Examples:**\n",
    "\n",
    "```\n",
    "Input: a[] = [1, 1, 2, 3, 4, 2, 1]\n",
    "Output : [-1, -1, 1, 2, 2, 1, -1]\n",
    "\n",
    "Explanation:\n",
    "\n",
    "Input : a[] = [1, 1, 1, 2, 2, 2, 2, 11, 3, 3]\n",
    "Given array a[] = [1, 1, 2, 3, 4, 2, 1]\n",
    "Frequency of each element is: 3, 3, 2, 1, 1, 2, 3\n",
    "\n",
    "Lets calls Next Greater Frequency element as NGF\n",
    "1. For element a[0] = 1 which has a frequency = 3,\n",
    "   As it has frequency of 3 and no other next element\n",
    "   has frequency more than 3 so  '-1'\n",
    "2. For element a[1] = 1 it will be -1 same logic\n",
    "   like a[0]\n",
    "3. For element a[2] = 2 which has frequency = 2,\n",
    "   NGF element is 1 at position = 6  with frequency\n",
    "   of 3 > 2\n",
    "4. For element a[3] = 3 which has frequency = 1,\n",
    "   NGF element is 2 at position = 5 with frequency\n",
    "   of 2 > 1\n",
    "5. For element a[4] = 4 which has frequency = 1,\n",
    "   NGF element is 2 at position = 5 with frequency\n",
    "   of 2 > 1\n",
    "6. For element a[5] = 2 which has frequency = 2,\n",
    "   NGF element is 1 at position = 6 with frequency\n",
    "   of 3 > 2\n",
    "7. For element a[6] = 1 there is no element to its\n",
    "   right, hence -1\n",
    "\n",
    "Input : a[] = [1, 1, 1, 2, 2, 2, 2, 11, 3, 3]\n",
    "Output : [2, 2, 2, -1, -1, -1, -1, 3, -1, -1]\n",
    "```"
   ]
  },
  {
   "cell_type": "code",
   "execution_count": 1,
   "id": "19d247b2",
   "metadata": {},
   "outputs": [],
   "source": [
    "from collections import Counter\n",
    "\n",
    "def findNearestGreaterFrequency(arr):\n",
    "    n = len(arr)\n",
    "    frequency = Counter(arr)\n",
    "    stack = []\n",
    "    result = [-1] * n\n",
    "    \n",
    "    for i in range(n - 1, -1, -1):\n",
    "        while stack and frequency[arr[i]] >= frequency[stack[-1]]:\n",
    "            stack.pop()\n",
    "        \n",
    "        if stack:\n",
    "            result[i] = stack[-1]\n",
    "        \n",
    "        stack.append(arr[i])\n",
    "    \n",
    "    return result"
   ]
  },
  {
   "cell_type": "code",
   "execution_count": 2,
   "id": "91880b77",
   "metadata": {},
   "outputs": [
    {
     "name": "stdout",
     "output_type": "stream",
     "text": [
      "[-1, -1, 1, 2, 2, 1, -1]\n"
     ]
    }
   ],
   "source": [
    "# Test case\n",
    "arr = [1, 1, 2, 3, 4, 2, 1]\n",
    "print(findNearestGreaterFrequency(arr))"
   ]
  },
  {
   "cell_type": "markdown",
   "id": "cc6f7d5c",
   "metadata": {},
   "source": [
    "### Question 2\n",
    "\n",
    "Given a stack of integers, sort it in ascending order using another temporary stack.\n",
    "\n",
    "**Examples:**\n",
    "\n",
    "```\n",
    "Input : [34, 3, 31, 98, 92, 23]\n",
    "Output : [3, 23, 31, 34, 92, 98]\n",
    "\n",
    "Input : [3, 5, 1, 4, 2, 8]\n",
    "Output : [1, 2, 3, 4, 5, 8]\n",
    "```"
   ]
  },
  {
   "cell_type": "code",
   "execution_count": 11,
   "id": "e1e8bef3",
   "metadata": {},
   "outputs": [],
   "source": [
    "def sortStack(stack):\n",
    "    temp_stack = []\n",
    "    \n",
    "    while stack:\n",
    "        temp = stack.pop()\n",
    "        \n",
    "        while temp_stack and temp_stack[-1] > temp:\n",
    "            stack.append(temp_stack.pop())\n",
    "        \n",
    "        temp_stack.append(temp)\n",
    "    \n",
    "    return temp_stack"
   ]
  },
  {
   "cell_type": "code",
   "execution_count": 12,
   "id": "a9f3ece2",
   "metadata": {},
   "outputs": [
    {
     "name": "stdout",
     "output_type": "stream",
     "text": [
      "[3, 23, 31, 34, 92, 98]\n"
     ]
    }
   ],
   "source": [
    "# Test case\n",
    "stack = [34, 3, 31, 98, 92, 23]\n",
    "sorted_stack = sortStack(stack)\n",
    "print(sorted_stack)"
   ]
  },
  {
   "cell_type": "markdown",
   "id": "fba1a05e",
   "metadata": {},
   "source": [
    "### Question 3\n",
    "\n",
    "Given a stack with **push()**, **pop()**, and **empty()** operations, The task is to delete the **middle** element of it without using any additional data structure.\n",
    "\n",
    "Input  : Stack[] = [1, 2, 3, 4, 5]\n",
    "\n",
    "Output : Stack[] = [1, 2, 4, 5]\n",
    "\n",
    "Input  : Stack[] = [1, 2, 3, 4, 5, 6]\n",
    "\n",
    "Output : Stack[] = [1, 2, 4, 5, 6]"
   ]
  },
  {
   "cell_type": "code",
   "execution_count": 15,
   "id": "dc5d3855",
   "metadata": {},
   "outputs": [],
   "source": [
    "def deleteMiddle(stack, n, curr):\n",
    "    # Base case: If stack is empty or current index exceeds size\n",
    "    if stack == [] or curr >= n:\n",
    "        return\n",
    "    \n",
    "    # Remove the top element\n",
    "    x = stack.pop()\n",
    "    \n",
    "    # If current index is not the middle index, recursively call deleteMiddle\n",
    "    if curr != n//2:\n",
    "        deleteMiddle(stack, n, curr+1)\n",
    "    \n",
    "    # Push the removed element back if current index is not the middle index\n",
    "    if curr != n//2:\n",
    "        stack.append(x)\n",
    "\n",
    "\n",
    "# Function to delete middle element of stack\n",
    "def deleteMiddleElement(stack):\n",
    "    n = len(stack)\n",
    "    curr = 0\n",
    "    \n",
    "    # Call the recursive function to delete middle element\n",
    "    deleteMiddle(stack, n, curr)"
   ]
  },
  {
   "cell_type": "code",
   "execution_count": 17,
   "id": "5c896c77",
   "metadata": {},
   "outputs": [
    {
     "name": "stdout",
     "output_type": "stream",
     "text": [
      "[1, 2, 4, 5]\n"
     ]
    }
   ],
   "source": [
    "# Test case\n",
    "stack = [1, 2, 3, 4, 5]\n",
    "deleteMiddleElement(stack)\n",
    "print(stack)"
   ]
  },
  {
   "cell_type": "markdown",
   "id": "ae1f1437",
   "metadata": {},
   "source": [
    "### Question 4\n",
    "\n",
    "Given a Queue consisting of first **n** natural numbers (in random order). The task is to check whether the given Queue elements can be arranged in increasing order in another Queue using a stack. The operation allowed are:\n",
    "\n",
    "1. Push and pop elements from the stack\n",
    "2. Pop (Or Dequeue) from the given Queue.\n",
    "3. Push (Or Enqueue) in the another Queue.\n",
    "\n",
    "**Examples :**\n",
    "\n",
    "Input : Queue[] = { 5, 1, 2, 3, 4 } \n",
    "\n",
    "Output : Yes \n",
    "\n",
    "Pop the first element of the given Queue \n",
    "\n",
    "i.e 5. Push 5 into the stack. \n",
    "\n",
    "Now, pop all the elements of the given Queue and push them to second Queue. \n",
    "\n",
    "Now, pop element 5 in the stack and push it to the second Queue.   \n",
    "\n",
    "Input : Queue[] = { 5, 1, 2, 6, 3, 4 } \n",
    "\n",
    "Output : No \n",
    "\n",
    "Push 5 to stack. \n",
    "\n",
    "Pop 1, 2 from given Queue and push it to another Queue. \n",
    "\n",
    "Pop 6 from given Queue and push to stack. \n",
    "\n",
    "Pop 3, 4 from given Queue and push to second Queue. \n",
    "\n",
    "Now, from using any of above operation, we cannot push 5 into the second Queue because it is below the 6 in the stack."
   ]
  },
  {
   "cell_type": "code",
   "execution_count": 18,
   "id": "f413aa68",
   "metadata": {},
   "outputs": [],
   "source": [
    "from queue import Queue\n",
    "\n",
    "\n",
    "def checkArrangement(queue):\n",
    "    stack = []\n",
    "    resultQueue = Queue()\n",
    "    expected = 1\n",
    "\n",
    "    while not queue.empty():\n",
    "        front = queue.queue[0]\n",
    "\n",
    "        if front == expected:\n",
    "            resultQueue.put(front)\n",
    "            queue.get()\n",
    "            expected += 1\n",
    "        elif stack and stack[-1] == expected:\n",
    "            resultQueue.put(stack[-1])\n",
    "            stack.pop()\n",
    "            expected += 1\n",
    "        else:\n",
    "            stack.append(front)\n",
    "            queue.get()\n",
    "\n",
    "    while stack:\n",
    "        if stack[-1] == expected:\n",
    "            resultQueue.put(stack[-1])\n",
    "            stack.pop()\n",
    "            expected += 1\n",
    "        else:\n",
    "            return \"No\"\n",
    "\n",
    "    prev = float('-inf')\n",
    "    while not resultQueue.empty():\n",
    "        curr = resultQueue.get()\n",
    "        if curr < prev:\n",
    "            return \"No\"\n",
    "        prev = curr\n",
    "\n",
    "    return \"Yes\""
   ]
  },
  {
   "cell_type": "code",
   "execution_count": 20,
   "id": "8f7db993",
   "metadata": {},
   "outputs": [
    {
     "name": "stdout",
     "output_type": "stream",
     "text": [
      "Yes\n"
     ]
    }
   ],
   "source": [
    "# Example usage\n",
    "inputQueue = Queue()\n",
    "inputQueue.put(5)\n",
    "inputQueue.put(1)\n",
    "inputQueue.put(2)\n",
    "inputQueue.put(3)\n",
    "inputQueue.put(4)\n",
    "\n",
    "print(checkArrangement(inputQueue))\n"
   ]
  },
  {
   "cell_type": "code",
   "execution_count": 21,
   "id": "96d94960",
   "metadata": {},
   "outputs": [
    {
     "name": "stdout",
     "output_type": "stream",
     "text": [
      "No\n"
     ]
    }
   ],
   "source": [
    "inputQueue = Queue()\n",
    "inputQueue.put(5)\n",
    "inputQueue.put(1)\n",
    "inputQueue.put(2)\n",
    "inputQueue.put(6)\n",
    "inputQueue.put(3)\n",
    "inputQueue.put(4)\n",
    "\n",
    "print(checkArrangement(inputQueue))"
   ]
  },
  {
   "cell_type": "markdown",
   "id": "ec0ee5af",
   "metadata": {},
   "source": [
    "### Question 5\n",
    "\n",
    "Given a number , write a program to reverse this number using stack.\n",
    "\n",
    "**Examples:**\n",
    "\n",
    "```\n",
    "Input : 365\n",
    "Output : 563\n",
    "\n",
    "Input : 6899\n",
    "Output : 9986\n",
    "```"
   ]
  },
  {
   "cell_type": "code",
   "execution_count": 22,
   "id": "d95f03b9",
   "metadata": {},
   "outputs": [],
   "source": [
    "def reverseNumber(num):\n",
    "    # Convert the number to string\n",
    "    numStr = str(num)\n",
    "\n",
    "    stack = []\n",
    "    # Push each digit onto the stack\n",
    "    for digit in numStr:\n",
    "        stack.append(digit)\n",
    "\n",
    "    reversedStr = \"\"\n",
    "    # Pop each digit from the stack and append it to a new string\n",
    "    while stack:\n",
    "        reversedStr += stack.pop()\n",
    "\n",
    "    # Convert the new string back to an integer\n",
    "    reversedNum = int(reversedStr)\n",
    "    return reversedNum"
   ]
  },
  {
   "cell_type": "code",
   "execution_count": 23,
   "id": "3f5f17e9",
   "metadata": {},
   "outputs": [
    {
     "name": "stdout",
     "output_type": "stream",
     "text": [
      "563\n"
     ]
    }
   ],
   "source": [
    "# Example usage\n",
    "print(reverseNumber(365))"
   ]
  },
  {
   "cell_type": "code",
   "execution_count": 24,
   "id": "c08c69a9",
   "metadata": {},
   "outputs": [
    {
     "name": "stdout",
     "output_type": "stream",
     "text": [
      "9986\n"
     ]
    }
   ],
   "source": [
    "print(reverseNumber(6899))"
   ]
  },
  {
   "cell_type": "markdown",
   "id": "84ea33e3",
   "metadata": {},
   "source": [
    "### Question 6\n",
    "\n",
    "Given an integer k and a **[queue](https://www.geeksforgeeks.org/queue-data-structure/)** of integers, The task is to reverse the order of the first **k** elements of the queue, leaving the other elements in the same relative order.\n",
    "\n",
    "Only following standard operations are allowed on queue.\n",
    "\n",
    "- **enqueue(x) :** Add an item x to rear of queue\n",
    "- **dequeue() :** Remove an item from front of queue\n",
    "- **size() :** Returns number of elements in queue.\n",
    "- **front() :** Finds front item."
   ]
  },
  {
   "cell_type": "code",
   "execution_count": 25,
   "id": "f32a39a1",
   "metadata": {},
   "outputs": [
    {
     "name": "stdout",
     "output_type": "stream",
     "text": [
      "3 2 1 4 5 "
     ]
    }
   ],
   "source": [
    "from queue import Queue\n",
    "\n",
    "def reverseFirstKElements(queue, k):\n",
    "    if queue.empty() or k <= 0 or k > queue.qsize():\n",
    "        return\n",
    "\n",
    "    stack = []\n",
    "    # Dequeue the first k elements and push them onto the stack\n",
    "    for _ in range(k):\n",
    "        stack.append(queue.get())\n",
    "\n",
    "    # Enqueue the elements from the stack back into the queue\n",
    "    while stack:\n",
    "        queue.put(stack.pop())\n",
    "\n",
    "    # Dequeue the remaining elements and enqueue them immediately\n",
    "    for _ in range(queue.qsize() - k):\n",
    "        queue.put(queue.get())\n",
    "\n",
    "# Example usage\n",
    "queue = Queue()\n",
    "queue.put(1)\n",
    "queue.put(2)\n",
    "queue.put(3)\n",
    "queue.put(4)\n",
    "queue.put(5)\n",
    "\n",
    "k = 3\n",
    "reverseFirstKElements(queue, k)\n",
    "\n",
    "# Print the modified queue\n",
    "while not queue.empty():\n",
    "    print(queue.get(), end=\" \")"
   ]
  },
  {
   "cell_type": "markdown",
   "id": "2ee29138",
   "metadata": {},
   "source": [
    "### Question 7\n",
    "\n",
    "Given a sequence of n strings, the task is to check if any two similar words come together and then destroy each other then print the number of words left in the sequence after this pairwise destruction.\n",
    "\n",
    "**Examples:**\n",
    "\n",
    "Input : ab aa aa bcd ab\n",
    "\n",
    "Output : 3\n",
    "\n",
    "*As aa, aa destroys each other so,*\n",
    "\n",
    "*ab bcd ab is the new sequence.*\n",
    "\n",
    "Input :  tom jerry jerry tom\n",
    "\n",
    "Output : 0\n",
    "\n",
    "*As first both jerry will destroy each other.*\n",
    "\n",
    "*Then sequence will be tom, tom they will also destroy*\n",
    "\n",
    "*each other. So, the final sequence doesn’t contain any*\n",
    "\n",
    "*word.*"
   ]
  },
  {
   "cell_type": "code",
   "execution_count": 26,
   "id": "6830e904",
   "metadata": {},
   "outputs": [
    {
     "name": "stdout",
     "output_type": "stream",
     "text": [
      "3\n"
     ]
    }
   ],
   "source": [
    "def countRemainingWords(sequence):\n",
    "    stack = []\n",
    "\n",
    "    for word in sequence:\n",
    "        if stack and stack[-1] == word:\n",
    "            stack.pop()\n",
    "        else:\n",
    "            stack.append(word)\n",
    "\n",
    "    return len(stack)\n",
    "\n",
    "# Example usage\n",
    "sequence = [\"ab\", \"aa\", \"aa\", \"bcd\", \"ab\"]\n",
    "result = countRemainingWords(sequence)\n",
    "print(result)"
   ]
  },
  {
   "cell_type": "markdown",
   "id": "71768437",
   "metadata": {},
   "source": [
    "### Question 8\n",
    "\n",
    "Given an array of integers, the task is to find the maximum absolute difference between the nearest left and the right smaller element of every element in the array.\n",
    "\n",
    "**Note:** If there is no smaller element on right side or left side of any element then we take zero as the smaller element. For example for the leftmost element, the nearest smaller element on the left side is considered as 0. Similarly, for rightmost elements, the smaller element on the right side is considered as 0.\n",
    "\n",
    "**Examples:**\n",
    "\n",
    "```\n",
    "Input : arr[] = {2, 1, 8}\n",
    "Output : 1\n",
    "Left smaller  LS[] {0, 0, 1}\n",
    "Right smaller RS[] {1, 0, 0}\n",
    "Maximum Diff of abs(LS[i] - RS[i]) = 1\n",
    "\n",
    "Input  : arr[] = {2, 4, 8, 7, 7, 9, 3}\n",
    "Output : 4\n",
    "Left smaller   LS[] = {0, 2, 4, 4, 4, 7, 2}\n",
    "Right smaller  RS[] = {0, 3, 7, 3, 3, 3, 0}\n",
    "Maximum Diff of abs(LS[i] - RS[i]) = 7 - 3 = 4\n",
    "\n",
    "Input : arr[] = {5, 1, 9, 2, 5, 1, 7}\n",
    "Output : 1\n",
    "```"
   ]
  },
  {
   "cell_type": "code",
   "execution_count": 6,
   "id": "b021de04",
   "metadata": {},
   "outputs": [
    {
     "name": "stdout",
     "output_type": "stream",
     "text": [
      "Maximum Diff : 4\n"
     ]
    }
   ],
   "source": [
    "def leftsmaller(arr, n, SE):\n",
    "\n",
    "    # create an empty stack\n",
    "    sta = []\n",
    "    # Traverse all array elements\n",
    "    # compute nearest smaller elements of every element\n",
    "    for i in range(n):\n",
    "\n",
    "        # Keep removing top element from S while the top\n",
    "        # element is greater than or equal to arr[i]\n",
    "        while(sta != [] and sta[len(sta)-1] >= arr[i]):\n",
    "            sta.pop()\n",
    "\n",
    "        # Store the smaller element of current element\n",
    "        if(sta != []):\n",
    "            SE[i]=sta[len(sta)-1]\n",
    "        # If all elements in S were greater than arr[i]\n",
    "        else:\n",
    "            SE[i]=0\n",
    "\n",
    "        # push this element\n",
    "        sta.append(arr[i])\n",
    "\n",
    "# Function returns maximum difference b/w Left &\n",
    "# right smaller element\n",
    "def findMaxDiff(arr, n):\n",
    "    ls=[0]*n # to store left smaller elements\n",
    "    rs=[0]*n # to store right smaller elements\n",
    "\n",
    "    # find left smaller elements of every element\n",
    "    leftsmaller(arr, n, ls)\n",
    "\n",
    "    # find right smaller element of every element\n",
    "    # by sending reverse of array\n",
    "    leftsmaller(arr[::-1], n, rs)\n",
    "\n",
    "    # find maximum absolute difference b/w LS & RRS\n",
    "    # In the reversed array right smaller for arr[i] is\n",
    "    # stored at RRS[n-i-1]\n",
    "    res = -1\n",
    "    for i in range(n):\n",
    "        res = max(res, abs(ls[i] - rs[n-1-i]))\n",
    "    # return maximum difference b/w LS & RRS\n",
    "    return res\n",
    "\n",
    "\n",
    "# Driver Program\n",
    "if __name__=='__main__':\n",
    "    arr = [2, 4, 8, 7, 7, 9, 3]\n",
    "    print(\"Maximum Diff :\", findMaxDiff(arr, len(arr)))"
   ]
  }
 ],
 "metadata": {
  "kernelspec": {
   "display_name": "py",
   "language": "python",
   "name": "myenv"
  },
  "language_info": {
   "codemirror_mode": {
    "name": "ipython",
    "version": 3
   },
   "file_extension": ".py",
   "mimetype": "text/x-python",
   "name": "python",
   "nbconvert_exporter": "python",
   "pygments_lexer": "ipython3",
   "version": "3.10.9"
  }
 },
 "nbformat": 4,
 "nbformat_minor": 5
}
