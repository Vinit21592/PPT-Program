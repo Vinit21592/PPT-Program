{
 "cells": [
  {
   "cell_type": "markdown",
   "id": "dd64c729",
   "metadata": {},
   "source": [
    "### 1. Scenario: A company wants to analyze the sales performance of its products in different regions. They have collected the following data:\n",
    "   Region A: [10, 15, 12, 8, 14]\n",
    "   \n",
    "   Region B: [18, 20, 16, 22, 25]\n",
    "   \n",
    "   Calculate the mean sales for each region."
   ]
  },
  {
   "cell_type": "code",
   "execution_count": 3,
   "id": "de849f0d",
   "metadata": {},
   "outputs": [],
   "source": [
    "from statistics import mean"
   ]
  },
  {
   "cell_type": "code",
   "execution_count": 5,
   "id": "5a37755a",
   "metadata": {},
   "outputs": [
    {
     "name": "stdout",
     "output_type": "stream",
     "text": [
      "11.8\n"
     ]
    }
   ],
   "source": [
    "Region_A = [10,15,12,8,14]\n",
    "print(mean(Region_A))"
   ]
  },
  {
   "cell_type": "code",
   "execution_count": 14,
   "id": "dc77ea0d",
   "metadata": {},
   "outputs": [
    {
     "data": {
      "text/plain": [
       "20.2"
      ]
     },
     "execution_count": 14,
     "metadata": {},
     "output_type": "execute_result"
    }
   ],
   "source": [
    "Region_B = [18,20,16,22,25]\n",
    "mean = (18+20+16+22+25)/5\n",
    "mean"
   ]
  },
  {
   "cell_type": "markdown",
   "id": "e07d1843",
   "metadata": {},
   "source": [
    "### 2. Scenario: A survey is conducted to measure customer satisfaction on a scale of 1 to 5. The data collected is as follows:\n",
    "   [4, 5, 2, 3, 5, 4, 3, 2, 4, 5]\n",
    "   \n",
    "   Calculate the mode of the survey responses."
   ]
  },
  {
   "cell_type": "markdown",
   "id": "9d0a654a",
   "metadata": {},
   "source": [
    "#### To calculate the mode of a set of data, you need to determine the value(s) that appear most frequently. "
   ]
  },
  {
   "cell_type": "code",
   "execution_count": 18,
   "id": "537559b7",
   "metadata": {},
   "outputs": [
    {
     "name": "stdout",
     "output_type": "stream",
     "text": [
      "4\n"
     ]
    }
   ],
   "source": [
    "from statistics import mode\n",
    "lst = [4,5,2,3,5,4,3,2,4,5]\n",
    "print(mode(lst))"
   ]
  },
  {
   "cell_type": "markdown",
   "id": "e2fe3c2c",
   "metadata": {},
   "source": [
    "### 3. Scenario: A company wants to compare the salaries of two departments. The salary data for Department A and Department B are as follows:\n",
    "   Department A: [5000, 6000, 5500, 7000]\n",
    "   \n",
    "   Department B: [4500, 5500, 5800, 6000, 5200]\n",
    "   \n",
    "   Calculate the median salary for each department.\n"
   ]
  },
  {
   "cell_type": "code",
   "execution_count": 19,
   "id": "652aa23b",
   "metadata": {},
   "outputs": [],
   "source": [
    "Dep_A = [5000,6000,5500,7000]"
   ]
  },
  {
   "cell_type": "code",
   "execution_count": 20,
   "id": "1b82a3ec",
   "metadata": {},
   "outputs": [],
   "source": [
    "# First, let's sort the data in ascending order:\n",
    "Dep_A.sort()"
   ]
  },
  {
   "cell_type": "code",
   "execution_count": 21,
   "id": "1de4019d",
   "metadata": {},
   "outputs": [
    {
     "data": {
      "text/plain": [
       "[5000, 5500, 6000, 7000]"
      ]
     },
     "execution_count": 21,
     "metadata": {},
     "output_type": "execute_result"
    }
   ],
   "source": [
    "Dep_A"
   ]
  },
  {
   "cell_type": "code",
   "execution_count": 22,
   "id": "41e29a73",
   "metadata": {},
   "outputs": [
    {
     "data": {
      "text/plain": [
       "5750.0"
      ]
     },
     "execution_count": 22,
     "metadata": {},
     "output_type": "execute_result"
    }
   ],
   "source": [
    "# Since there are four values, the median is the average of the two middle values:\n",
    "median = (5500+6000)/2\n",
    "median"
   ]
  },
  {
   "cell_type": "code",
   "execution_count": 23,
   "id": "82e6c425",
   "metadata": {},
   "outputs": [],
   "source": [
    "Dep_B = [4500,5500,5800,6000,5200]"
   ]
  },
  {
   "cell_type": "code",
   "execution_count": 24,
   "id": "5428fb58",
   "metadata": {},
   "outputs": [],
   "source": [
    "# First, let's sort the data in ascending order:\n",
    "Dep_B.sort()"
   ]
  },
  {
   "cell_type": "code",
   "execution_count": 25,
   "id": "ec0ffb93",
   "metadata": {},
   "outputs": [
    {
     "data": {
      "text/plain": [
       "[4500, 5200, 5500, 5800, 6000]"
      ]
     },
     "execution_count": 25,
     "metadata": {},
     "output_type": "execute_result"
    }
   ],
   "source": [
    "Dep_B"
   ]
  },
  {
   "cell_type": "code",
   "execution_count": 27,
   "id": "7e31f934",
   "metadata": {},
   "outputs": [
    {
     "data": {
      "text/plain": [
       "5500"
      ]
     },
     "execution_count": 27,
     "metadata": {},
     "output_type": "execute_result"
    }
   ],
   "source": [
    "#Since there are five values, the median is the middle value:\n",
    "Median = 5500\n",
    "Median"
   ]
  },
  {
   "cell_type": "markdown",
   "id": "f1412195",
   "metadata": {},
   "source": [
    "### 4. Scenario: A data analyst wants to determine the variability in the daily stock prices of a company. The data collected is as follows:\n",
    "   [25.5, 24.8, 26.1, 25.3, 24.9]\n",
    "   \n",
    "   Calculate the range of the stock prices.\n"
   ]
  },
  {
   "cell_type": "code",
   "execution_count": 28,
   "id": "c5d5bb24",
   "metadata": {},
   "outputs": [],
   "source": [
    "data = [25.5,24.8,26.1,25.3,24.9]"
   ]
  },
  {
   "cell_type": "code",
   "execution_count": 30,
   "id": "0bf7ec82",
   "metadata": {},
   "outputs": [],
   "source": [
    "# First, let's find the maximum and minimum values in the dataset:\n",
    "Maximum_value = 26.1\n",
    "Minimum_value = 24.8"
   ]
  },
  {
   "cell_type": "code",
   "execution_count": 33,
   "id": "af0cf898",
   "metadata": {},
   "outputs": [
    {
     "data": {
      "text/plain": [
       "1.3"
      ]
     },
     "execution_count": 33,
     "metadata": {},
     "output_type": "execute_result"
    }
   ],
   "source": [
    "# Now, let's calculate the range:\n",
    "Range = Maximum_value - Minimum_value\n",
    "round(Range,2)"
   ]
  },
  {
   "cell_type": "markdown",
   "id": "1a34f51e",
   "metadata": {},
   "source": [
    "### 5. Scenario: A study is conducted to compare the performance of two different teaching methods. The test scores of the students in each group are as follows:\n",
    "   Group A: [85, 90, 92, 88, 91]\n",
    "   \n",
    "   Group B: [82, 88, 90, 86, 87]\n",
    "   \n",
    "   Perform a t-test to determine if there is a significant difference in the mean scores between the two groups."
   ]
  },
  {
   "cell_type": "markdown",
   "id": "aed6114b",
   "metadata": {},
   "source": [
    "### 1. Define the null hypothesis (H0) and the alternative hypothesis (Ha):\n",
    "Null hypothesis (H0): There is no significant difference in the mean scores between Group A and Group B. (mean1 = mean2)\n",
    "\n",
    "Alternative hypothesis (Ha): There is a significant difference in the mean scores between Group A and Group B. (mean1 ≠ mean2)"
   ]
  },
  {
   "cell_type": "markdown",
   "id": "515ba0ea",
   "metadata": {},
   "source": [
    "### 2. Calculate the mean of each group"
   ]
  },
  {
   "cell_type": "code",
   "execution_count": 14,
   "id": "82f16653",
   "metadata": {},
   "outputs": [],
   "source": [
    "grp_A = [85,90,92,88,91]\n",
    "grp_B = [82,88,90,86,87]"
   ]
  },
  {
   "cell_type": "code",
   "execution_count": 17,
   "id": "1bdd42f3",
   "metadata": {},
   "outputs": [
    {
     "data": {
      "text/plain": [
       "89.2"
      ]
     },
     "execution_count": 17,
     "metadata": {},
     "output_type": "execute_result"
    }
   ],
   "source": [
    "Mean_of_grp_A = (85+90+92+88+91)/5\n",
    "Mean_of_grp_A"
   ]
  },
  {
   "cell_type": "code",
   "execution_count": 18,
   "id": "5c9e70d7",
   "metadata": {},
   "outputs": [
    {
     "data": {
      "text/plain": [
       "86.6"
      ]
     },
     "execution_count": 18,
     "metadata": {},
     "output_type": "execute_result"
    }
   ],
   "source": [
    "Mean_of_grp_B = (82+88+90+86+87)/5\n",
    "Mean_of_grp_B"
   ]
  },
  {
   "cell_type": "markdown",
   "id": "ca8ed591",
   "metadata": {},
   "source": [
    "### 3. Calculate standard deviation for each group"
   ]
  },
  {
   "cell_type": "code",
   "execution_count": 21,
   "id": "b13b35ab",
   "metadata": {},
   "outputs": [],
   "source": [
    "import statistics"
   ]
  },
  {
   "cell_type": "code",
   "execution_count": 22,
   "id": "7a5fbe3a",
   "metadata": {},
   "outputs": [
    {
     "name": "stdout",
     "output_type": "stream",
     "text": [
      "Standard Deviation of group A is:  2.7748873851023217\n"
     ]
    }
   ],
   "source": [
    "print(\"Standard Deviation of group A is: \",statistics.stdev(grp_A))"
   ]
  },
  {
   "cell_type": "code",
   "execution_count": 23,
   "id": "39221e06",
   "metadata": {},
   "outputs": [
    {
     "name": "stdout",
     "output_type": "stream",
     "text": [
      "Standard Deviation of group B is:  2.9664793948382653\n"
     ]
    }
   ],
   "source": [
    "print(\"Standard Deviation of group B is: \",statistics.stdev(grp_B))"
   ]
  },
  {
   "cell_type": "markdown",
   "id": "235694d3",
   "metadata": {},
   "source": [
    "### 4. Calculate the t-statistic"
   ]
  },
  {
   "cell_type": "code",
   "execution_count": 25,
   "id": "edd8027d",
   "metadata": {},
   "outputs": [
    {
     "name": "stdout",
     "output_type": "stream",
     "text": [
      "2.7748873851023217 2.9664793948382653\n"
     ]
    }
   ],
   "source": [
    "std_A = statistics.stdev(grp_A)\n",
    "std_B = statistics.stdev(grp_B)\n",
    "print(std_A,std_B)"
   ]
  },
  {
   "cell_type": "code",
   "execution_count": 41,
   "id": "c14b9bc4",
   "metadata": {},
   "outputs": [
    {
     "data": {
      "text/plain": [
       "1.4312528946642733"
      ]
     },
     "execution_count": 41,
     "metadata": {},
     "output_type": "execute_result"
    }
   ],
   "source": [
    "import math\n",
    "t_stats = (Mean_of_grp_A-Mean_of_grp_B)/math.sqrt(((std_A*std_A)/5)+((std_B*std_B)/5))\n",
    "t_stats"
   ]
  },
  {
   "cell_type": "markdown",
   "id": "0d556697",
   "metadata": {},
   "source": [
    "### 5. Determine the degrees of freedom"
   ]
  },
  {
   "cell_type": "code",
   "execution_count": 43,
   "id": "17e7332e",
   "metadata": {},
   "outputs": [
    {
     "data": {
      "text/plain": [
       "8"
      ]
     },
     "execution_count": 43,
     "metadata": {},
     "output_type": "execute_result"
    }
   ],
   "source": [
    "# Degrees of freedom (df) can be calculated using the formula:\n",
    "# df = n1 + n2 - 2\n",
    "df = 5 + 5 - 2\n",
    "df"
   ]
  },
  {
   "cell_type": "markdown",
   "id": "d4240742",
   "metadata": {},
   "source": [
    "### 6. Determine the critical t-value\n",
    "With a significance level of 0.05 and the degrees of freedom calculated in Step 5, we can find the critical t-value from the t-distribution table and for two-tailed test we get critical t-value = 2.306"
   ]
  },
  {
   "cell_type": "markdown",
   "id": "f4136834",
   "metadata": {},
   "source": [
    "### 7. Compare the calculated t-value with the critical t-value\n",
    "If calculated t-value > critical t-value then we reject the null hypothesis and\n",
    "\n",
    "If calculated t-value < critical t-value then we accept the null hypothesis\n",
    "\n",
    "So, in our case calculated t-value < critical t-value i.e. 1.431 < 2.306 hence, we accept the null hypothesis i.e.\n",
    "There is no significant difference in the mean scores between Group A and Group B. (mean1 = mean2)"
   ]
  },
  {
   "cell_type": "markdown",
   "id": "73cea8b7",
   "metadata": {},
   "source": [
    "### 6. Scenario: A company wants to analyze the relationship between advertising expenditure and sales. The data collected is as follows:\n",
    "   Advertising Expenditure (in thousands): [10, 15, 12, 8, 14]\n",
    "   \n",
    "   Sales (in thousands): [25, 30, 28, 20, 26]\n",
    "   \n",
    "   Calculate the correlation coefficient between advertising expenditure and sales."
   ]
  },
  {
   "attachments": {
    "image.png": {
     "image/png": "[encoded data removed]"
    }
   },
   "cell_type": "markdown",
   "id": "a849f56a",
   "metadata": {},
   "source": [
    "![image.png](attachment:image.png)"
   ]
  },
  {
   "cell_type": "code",
   "execution_count": 48,
   "id": "5c3a5d97",
   "metadata": {},
   "outputs": [
    {
     "name": "stdout",
     "output_type": "stream",
     "text": [
      "0.875751\n"
     ]
    }
   ],
   "source": [
    "# Python Program to find correlation coefficient.\n",
    "import math\n",
    "\n",
    "# function that returns correlation coefficient.\n",
    "def correlationCoefficient(X, Y, n) :\n",
    "    sum_X = 0\n",
    "    sum_Y = 0\n",
    "    sum_XY = 0\n",
    "    squareSum_X = 0\n",
    "    squareSum_Y = 0\n",
    "    \n",
    "    \n",
    "    i = 0\n",
    "    while i < n :\n",
    "        # sum of elements of array X.\n",
    "        sum_X = sum_X + X[i]\n",
    "        \n",
    "        # sum of elements of array Y.\n",
    "        sum_Y = sum_Y + Y[i]\n",
    "        \n",
    "        # sum of X[i] * Y[i].\n",
    "        sum_XY = sum_XY + X[i] * Y[i]\n",
    "        \n",
    "        # sum of square of array elements.\n",
    "        squareSum_X = squareSum_X + X[i] * X[i]\n",
    "        squareSum_Y = squareSum_Y + Y[i] * Y[i]\n",
    "        \n",
    "        i = i + 1\n",
    "    \n",
    "    # use formula for calculating correlation\n",
    "    # coefficient.\n",
    "    corr = (float)(n * sum_XY - sum_X * sum_Y)/(float)(math.sqrt((n * squareSum_X-sum_X * sum_X)*(n * squareSum_Y-sum_Y * sum_Y)))\n",
    "    return corr\n",
    "    \n",
    "# Driver function\n",
    "X = [10, 15, 12, 8, 14]\n",
    "Y = [25, 30, 28, 20, 26]\n",
    "    \n",
    "# Find the size of array.\n",
    "n = len(X)\n",
    "\n",
    "# Function call to correlationCoefficient.\n",
    "print ('{0:.6f}'.format(correlationCoefficient(X, Y, n)))"
   ]
  },
  {
   "cell_type": "markdown",
   "id": "ad46e7a2",
   "metadata": {},
   "source": [
    "#### the correlation coefficient between advertising expenditure and sales is 0.875"
   ]
  },
  {
   "cell_type": "markdown",
   "id": "e7d19f51",
   "metadata": {},
   "source": [
    "### 7. Scenario: A survey is conducted to measure the heights of a group of people. The data collected is as follows:\n",
    "   [160, 170, 165, 155, 175, 180, 170]\n",
    "   Calculate the standard deviation of the heights.\n"
   ]
  },
  {
   "cell_type": "code",
   "execution_count": 1,
   "id": "a1ab750d",
   "metadata": {},
   "outputs": [],
   "source": [
    "data = [160, 170, 165, 155, 175, 180, 170]"
   ]
  },
  {
   "cell_type": "code",
   "execution_count": 2,
   "id": "7a882688",
   "metadata": {},
   "outputs": [],
   "source": [
    "import statistics"
   ]
  },
  {
   "cell_type": "code",
   "execution_count": 3,
   "id": "f6b8c951",
   "metadata": {},
   "outputs": [
    {
     "name": "stdout",
     "output_type": "stream",
     "text": [
      "Standard Deviation of the heights is:  8.591246929842246\n"
     ]
    }
   ],
   "source": [
    "print(\"Standard Deviation of the heights is: \",statistics.stdev(data))"
   ]
  },
  {
   "cell_type": "markdown",
   "id": "a18a64a3",
   "metadata": {},
   "source": [
    "### 8. Scenario: A company wants to analyze the relationship between employee tenure and job satisfaction. The data collected is as follows:\n",
    "   Employee Tenure (in years): [2, 3, 5, 4, 6, 2, 4]\n",
    "   \n",
    "   Job Satisfaction (on a scale of 1 to 10): [7, 8, 6, 9, 5, 7, 6]\n",
    "   \n",
    "   Perform a linear regression analysis to predict job satisfaction based on employee tenure.\n"
   ]
  },
  {
   "cell_type": "code",
   "execution_count": 4,
   "id": "b87eb8cf",
   "metadata": {},
   "outputs": [],
   "source": [
    "import numpy as np\n",
    "from sklearn.linear_model import LinearRegression"
   ]
  },
  {
   "cell_type": "code",
   "execution_count": 8,
   "id": "fbe599f2",
   "metadata": {},
   "outputs": [],
   "source": [
    "# Employee Tenure (in years)\n",
    "X = np.array([2, 3, 5, 4, 6, 2, 4]).reshape(-1,1)"
   ]
  },
  {
   "cell_type": "code",
   "execution_count": 9,
   "id": "b28fec26",
   "metadata": {},
   "outputs": [],
   "source": [
    "# Job Satisfaction (on a scale of 1 to 10)\n",
    "y = np.array([7, 8, 6, 9, 5, 7, 6])"
   ]
  },
  {
   "cell_type": "code",
   "execution_count": 10,
   "id": "536cb699",
   "metadata": {},
   "outputs": [
    {
     "data": {
      "text/html": [
       "<style>#sk-container-id-1 {color: black;background-color: white;}#sk-container-id-1 pre{padding: 0;}#sk-container-id-1 div.sk-toggleable {background-color: white;}#sk-container-id-1 label.sk-toggleable__label {cursor: pointer;display: block;width: 100%;margin-bottom: 0;padding: 0.3em;box-sizing: border-box;text-align: center;}#sk-container-id-1 label.sk-toggleable__label-arrow:before {content: \"▸\";float: left;margin-right: 0.25em;color: #696969;}#sk-container-id-1 label.sk-toggleable__label-arrow:hover:before {color: black;}#sk-container-id-1 div.sk-estimator:hover label.sk-toggleable__label-arrow:before {color: black;}#sk-container-id-1 div.sk-toggleable__content {max-height: 0;max-width: 0;overflow: hidden;text-align: left;background-color: #f0f8ff;}#sk-container-id-1 div.sk-toggleable__content pre {margin: 0.2em;color: black;border-radius: 0.25em;background-color: #f0f8ff;}#sk-container-id-1 input.sk-toggleable__control:checked~div.sk-toggleable__content {max-height: 200px;max-width: 100%;overflow: auto;}#sk-container-id-1 input.sk-toggleable__control:checked~label.sk-toggleable__label-arrow:before {content: \"▾\";}#sk-container-id-1 div.sk-estimator input.sk-toggleable__control:checked~label.sk-toggleable__label {background-color: #d4ebff;}#sk-container-id-1 div.sk-label input.sk-toggleable__control:checked~label.sk-toggleable__label {background-color: #d4ebff;}#sk-container-id-1 input.sk-hidden--visually {border: 0;clip: rect(1px 1px 1px 1px);clip: rect(1px, 1px, 1px, 1px);height: 1px;margin: -1px;overflow: hidden;padding: 0;position: absolute;width: 1px;}#sk-container-id-1 div.sk-estimator {font-family: monospace;background-color: #f0f8ff;border: 1px dotted black;border-radius: 0.25em;box-sizing: border-box;margin-bottom: 0.5em;}#sk-container-id-1 div.sk-estimator:hover {background-color: #d4ebff;}#sk-container-id-1 div.sk-parallel-item::after {content: \"\";width: 100%;border-bottom: 1px solid gray;flex-grow: 1;}#sk-container-id-1 div.sk-label:hover label.sk-toggleable__label {background-color: #d4ebff;}#sk-container-id-1 div.sk-serial::before {content: \"\";position: absolute;border-left: 1px solid gray;box-sizing: border-box;top: 0;bottom: 0;left: 50%;z-index: 0;}#sk-container-id-1 div.sk-serial {display: flex;flex-direction: column;align-items: center;background-color: white;padding-right: 0.2em;padding-left: 0.2em;position: relative;}#sk-container-id-1 div.sk-item {position: relative;z-index: 1;}#sk-container-id-1 div.sk-parallel {display: flex;align-items: stretch;justify-content: center;background-color: white;position: relative;}#sk-container-id-1 div.sk-item::before, #sk-container-id-1 div.sk-parallel-item::before {content: \"\";position: absolute;border-left: 1px solid gray;box-sizing: border-box;top: 0;bottom: 0;left: 50%;z-index: -1;}#sk-container-id-1 div.sk-parallel-item {display: flex;flex-direction: column;z-index: 1;position: relative;background-color: white;}#sk-container-id-1 div.sk-parallel-item:first-child::after {align-self: flex-end;width: 50%;}#sk-container-id-1 div.sk-parallel-item:last-child::after {align-self: flex-start;width: 50%;}#sk-container-id-1 div.sk-parallel-item:only-child::after {width: 0;}#sk-container-id-1 div.sk-dashed-wrapped {border: 1px dashed gray;margin: 0 0.4em 0.5em 0.4em;box-sizing: border-box;padding-bottom: 0.4em;background-color: white;}#sk-container-id-1 div.sk-label label {font-family: monospace;font-weight: bold;display: inline-block;line-height: 1.2em;}#sk-container-id-1 div.sk-label-container {text-align: center;}#sk-container-id-1 div.sk-container {/* jupyter's `normalize.less` sets `[hidden] { display: none; }` but bootstrap.min.css set `[hidden] { display: none !important; }` so we also need the `!important` here to be able to override the default hidden behavior on the sphinx rendered scikit-learn.org. See: https://github.com/scikit-learn/scikit-learn/issues/21755 */display: inline-block !important;position: relative;}#sk-container-id-1 div.sk-text-repr-fallback {display: none;}</style><div id=\"sk-container-id-1\" class=\"sk-top-container\"><div class=\"sk-text-repr-fallback\"><pre>LinearRegression()</pre><b>In a Jupyter environment, please rerun this cell to show the HTML representation or trust the notebook. <br />On GitHub, the HTML representation is unable to render, please try loading this page with nbviewer.org.</b></div><div class=\"sk-container\" hidden><div class=\"sk-item\"><div class=\"sk-estimator sk-toggleable\"><input class=\"sk-toggleable__control sk-hidden--visually\" id=\"sk-estimator-id-1\" type=\"checkbox\" checked><label for=\"sk-estimator-id-1\" class=\"sk-toggleable__label sk-toggleable__label-arrow\">LinearRegression</label><div class=\"sk-toggleable__content\"><pre>LinearRegression()</pre></div></div></div></div></div>"
      ],
      "text/plain": [
       "LinearRegression()"
      ]
     },
     "execution_count": 10,
     "metadata": {},
     "output_type": "execute_result"
    }
   ],
   "source": [
    "# Create and fit the linear regression model\n",
    "model = LinearRegression()\n",
    "model.fit(X, y)"
   ]
  },
  {
   "cell_type": "code",
   "execution_count": 17,
   "id": "faa0f842",
   "metadata": {},
   "outputs": [],
   "source": [
    "# Extract the coefficients (slope and intercept)\n",
    "slope = model.coef_[0]\n",
    "intercept = model.intercept_"
   ]
  },
  {
   "cell_type": "code",
   "execution_count": 18,
   "id": "4c299203",
   "metadata": {},
   "outputs": [
    {
     "name": "stdout",
     "output_type": "stream",
     "text": [
      "Slope (β₁): -0.4680851063829787\n",
      "Intercept (β₀): 8.595744680851062\n"
     ]
    }
   ],
   "source": [
    "# Print the coefficients\n",
    "print(\"Slope (β₁):\", slope)\n",
    "print(\"Intercept (β₀):\", intercept)"
   ]
  },
  {
   "cell_type": "code",
   "execution_count": 29,
   "id": "1fca67ea",
   "metadata": {},
   "outputs": [],
   "source": [
    "# Predict job satisfaction for a new tenure value\n",
    "new_tenure = 4\n",
    "predicted_job_satisfaction = model.predict([[new_tenure]])"
   ]
  },
  {
   "cell_type": "code",
   "execution_count": 30,
   "id": "d1ec8ae4",
   "metadata": {},
   "outputs": [
    {
     "name": "stdout",
     "output_type": "stream",
     "text": [
      "Predicted Job Satisfaction: 6.7234042553191475\n"
     ]
    }
   ],
   "source": [
    "# Print the predicted job satisfaction\n",
    "print(\"Predicted Job Satisfaction:\", predicted_job_satisfaction[0])"
   ]
  },
  {
   "cell_type": "markdown",
   "id": "471bd131",
   "metadata": {},
   "source": [
    "### 9. Scenario: A study is conducted to compare the effectiveness of two different medications. The recovery times of the patients in each group are as follows:\n",
    "   Medication A: [10, 12, 14, 11, 13]\n",
    "   \n",
    "   Medication B: [15, 17, 16, 14, 18]\n",
    "   \n",
    "   Perform an analysis of variance (ANOVA) to determine if there is a significant difference in the mean recovery times between the two medications.\n"
   ]
  },
  {
   "cell_type": "code",
   "execution_count": 31,
   "id": "e2c3d714",
   "metadata": {},
   "outputs": [],
   "source": [
    "import scipy.stats as stats"
   ]
  },
  {
   "cell_type": "code",
   "execution_count": 32,
   "id": "676545cc",
   "metadata": {},
   "outputs": [],
   "source": [
    "# Recovery times of patients for Medication A and Medication B\n",
    "medication_a = [10, 12, 14, 11, 13]\n",
    "medication_b = [15, 17, 16, 14, 18]"
   ]
  },
  {
   "cell_type": "code",
   "execution_count": 33,
   "id": "44b49ae4",
   "metadata": {},
   "outputs": [],
   "source": [
    "# Perform one-way ANOVA\n",
    "statistic, p_value = stats.f_oneway(medication_a, medication_b)"
   ]
  },
  {
   "cell_type": "code",
   "execution_count": 34,
   "id": "fa6dd312",
   "metadata": {},
   "outputs": [
    {
     "name": "stdout",
     "output_type": "stream",
     "text": [
      "One-way ANOVA results:\n",
      "F-Statistic: 16.0\n",
      "p-value: 0.003949772803445326\n"
     ]
    }
   ],
   "source": [
    "# Print the results\n",
    "print(\"One-way ANOVA results:\")\n",
    "print(\"F-Statistic:\", statistic)\n",
    "print(\"p-value:\", p_value)"
   ]
  },
  {
   "cell_type": "code",
   "execution_count": 35,
   "id": "c4c2722b",
   "metadata": {},
   "outputs": [
    {
     "name": "stdout",
     "output_type": "stream",
     "text": [
      "There is a significant difference in the mean recovery times between the medications.\n"
     ]
    }
   ],
   "source": [
    "# Determine if there is a significant difference\n",
    "alpha = 0.05\n",
    "if p_value < alpha:\n",
    "    print(\"There is a significant difference in the mean recovery times between the medications.\")\n",
    "else:\n",
    "    print(\"There is no significant difference in the mean recovery times between the medications.\")"
   ]
  },
  {
   "cell_type": "markdown",
   "id": "0dac31b8",
   "metadata": {},
   "source": [
    "### 10. Scenario: A company wants to analyze customer feedback ratings on a scale of 1 to 10. The data collected is\n",
    "\n",
    " as follows:\n",
    "    [8, 9, 7, 6, 8, 10, 9, 8, 7, 8]\n",
    "    Calculate the 75th percentile of the feedback ratings.\n"
   ]
  },
  {
   "cell_type": "code",
   "execution_count": 36,
   "id": "5e539dde",
   "metadata": {},
   "outputs": [],
   "source": [
    "data = [8, 9, 7, 6, 8, 10, 9, 8, 7, 8]"
   ]
  },
  {
   "cell_type": "code",
   "execution_count": 37,
   "id": "898bd2e6",
   "metadata": {},
   "outputs": [
    {
     "data": {
      "text/plain": [
       "[6, 7, 7, 8, 8, 8, 8, 9, 9, 10]"
      ]
     },
     "execution_count": 37,
     "metadata": {},
     "output_type": "execute_result"
    }
   ],
   "source": [
    "# Sort the data in ascending order:\n",
    "data.sort()\n",
    "data"
   ]
  },
  {
   "cell_type": "markdown",
   "id": "595ea101",
   "metadata": {},
   "source": [
    "### Calculate the position of the 75th percentile:\n",
    "Since we have 10 data points, the 75th percentile position would be at index \n",
    "(75/100) * 10 = 7.5. \n",
    "Since the position is not an integer, we will take the average of the values at indices 7 and 8."
   ]
  },
  {
   "cell_type": "markdown",
   "id": "cde99c30",
   "metadata": {},
   "source": [
    "### Find the value at the 75th percentile position:\n",
    "The value at index 7 is 8, and the value at index 8 is 9. Therefore, the average of these two values will be the 75th percentile."
   ]
  },
  {
   "cell_type": "code",
   "execution_count": 7,
   "id": "12178dca",
   "metadata": {},
   "outputs": [
    {
     "data": {
      "text/plain": [
       "8.5"
      ]
     },
     "execution_count": 7,
     "metadata": {},
     "output_type": "execute_result"
    }
   ],
   "source": [
    "(8 + 9) / 2"
   ]
  },
  {
   "cell_type": "markdown",
   "id": "83c0f697",
   "metadata": {},
   "source": [
    "So, the 75th percentile of the feedback ratings is 8.5."
   ]
  },
  {
   "cell_type": "markdown",
   "id": "6d7a8d4e",
   "metadata": {},
   "source": [
    "### 11. Scenario: A quality control department wants to test the weight consistency of a product. The weights of a sample of products are as follows:\n",
    "    [10.2, 9.8, 10.0, 10.5, 10.3, 10.1]\n",
    "    Perform a hypothesis test to determine if the mean weight differs significantly from 10 grams.\n"
   ]
  },
  {
   "cell_type": "markdown",
   "id": "00a5d9cf",
   "metadata": {},
   "source": [
    "### Step 1: Define the hypotheses:\n",
    "\n",
    "Null hypothesis (H0): The mean weight is equal to 10 grams.\n",
    "\n",
    "Alternative hypothesis (H1): The mean weight differs from 10 grams."
   ]
  },
  {
   "cell_type": "markdown",
   "id": "eca74c54",
   "metadata": {},
   "source": [
    "### Step 2: Set the significance level (α):\n",
    "Choose a significance level to determine the threshold for rejecting the null hypothesis. Let's assume a significance level of α = 0.05, which corresponds to a 5% chance of rejecting the null hypothesis when it is true."
   ]
  },
  {
   "cell_type": "markdown",
   "id": "b877a26e",
   "metadata": {},
   "source": [
    "### Step 3: Calculate the test statistic:\n",
    "Calculate the test statistic, which in this case is the t-statistic. The formula for the t-statistic in a one-sample t-test is:\n",
    "\n",
    "t = (sample_mean - population_mean) / (sample_standard_deviation / sqrt(sample_size))"
   ]
  },
  {
   "cell_type": "markdown",
   "id": "58d761e8",
   "metadata": {},
   "source": [
    "T = (X̄ – μ) / S/√n"
   ]
  },
  {
   "cell_type": "markdown",
   "id": "ac9f3522",
   "metadata": {},
   "source": [
    "* X̄ = sample_mean\n",
    "* μ = population_mean\n",
    "* S = sample_standard_deviation\n",
    "* n = sample_size"
   ]
  },
  {
   "cell_type": "code",
   "execution_count": 8,
   "id": "9cbe566d",
   "metadata": {},
   "outputs": [],
   "source": [
    "# Calculate sample mean:\n",
    "data = [10.2, 9.8, 10.0, 10.5, 10.3, 10.1]"
   ]
  },
  {
   "cell_type": "code",
   "execution_count": 11,
   "id": "113e38c1",
   "metadata": {},
   "outputs": [
    {
     "name": "stdout",
     "output_type": "stream",
     "text": [
      "10.15\n"
     ]
    }
   ],
   "source": [
    "from statistics import mean\n",
    "print(mean(data))"
   ]
  },
  {
   "cell_type": "code",
   "execution_count": 12,
   "id": "f7d25e64",
   "metadata": {},
   "outputs": [
    {
     "data": {
      "text/plain": [
       "0.24289915602982226"
      ]
     },
     "execution_count": 12,
     "metadata": {},
     "output_type": "execute_result"
    }
   ],
   "source": [
    "# Calculate sample standard deviation:\n",
    "statistics.stdev(data)"
   ]
  },
  {
   "cell_type": "markdown",
   "id": "3ff12cce",
   "metadata": {},
   "source": [
    "n = 6\n",
    "\n",
    "μ = population_mean = 10"
   ]
  },
  {
   "cell_type": "code",
   "execution_count": 15,
   "id": "394767b5",
   "metadata": {},
   "outputs": [],
   "source": [
    "import math\n",
    "T = (10.15 - 10)/(0.24/math.sqrt(6))"
   ]
  },
  {
   "cell_type": "code",
   "execution_count": 16,
   "id": "df388513",
   "metadata": {},
   "outputs": [
    {
     "data": {
      "text/plain": [
       "1.5309310892394898"
      ]
     },
     "execution_count": 16,
     "metadata": {},
     "output_type": "execute_result"
    }
   ],
   "source": [
    "T"
   ]
  },
  {
   "cell_type": "markdown",
   "id": "ac4cb73a",
   "metadata": {},
   "source": [
    "### step 4: Degrees of freedom (df): \n",
    "df = n - 1 "
   ]
  },
  {
   "cell_type": "code",
   "execution_count": 17,
   "id": "3c814488",
   "metadata": {},
   "outputs": [
    {
     "data": {
      "text/plain": [
       "5"
      ]
     },
     "execution_count": 17,
     "metadata": {},
     "output_type": "execute_result"
    }
   ],
   "source": [
    "df = 6 - 1\n",
    "df"
   ]
  },
  {
   "cell_type": "markdown",
   "id": "10df4097",
   "metadata": {},
   "source": [
    "### Step 5: Determine the critical value:"
   ]
  },
  {
   "cell_type": "markdown",
   "id": "6a30f54d",
   "metadata": {},
   "source": [
    "Using a t-table or statistical software, with a significance level of 0.05 and 5 degrees of freedom, the critical value is approximately 2.571."
   ]
  },
  {
   "cell_type": "markdown",
   "id": "988335a3",
   "metadata": {},
   "source": [
    "### 6. Compare the calculated t-value with the critical t-value\n",
    "If calculated t-value > critical t-value then we reject the null hypothesis and\n",
    "\n",
    "If calculated t-value < critical t-value then we accept the null hypothesis\n",
    "\n",
    "So, in our case calculated t-value < critical t-value i.e. 1.530 < 2.571 hence, we fail to reject the null hypothesis. Therefore, based on the given sample, we do not have enough evidence to conclude that the mean weight differs significantly from 10 grams."
   ]
  },
  {
   "cell_type": "markdown",
   "id": "263c3658",
   "metadata": {},
   "source": [
    "### 12. Scenario: A company wants to analyze the click-through rates of two different website designs. The number of clicks for each design is as follows:\n",
    "    Design A: [100, 120, 110, 90, 95]\n",
    "    Design B: [80, 85, 90, 95, 100]\n",
    "    Perform a chi-square test to determine if there is a significant difference in the click-through rates between the two designs.\n"
   ]
  },
  {
   "cell_type": "markdown",
   "id": "c3f82927",
   "metadata": {},
   "source": [
    "### Define the hypotheses:\n",
    "\n",
    "* Null hypothesis (H0): There is no significant difference in the click-through rates between the two designs.\n",
    "* Alternative hypothesis (H1): There is a significant difference in the click-through rates between the two designs."
   ]
  },
  {
   "cell_type": "code",
   "execution_count": 18,
   "id": "f19cd9af",
   "metadata": {},
   "outputs": [
    {
     "name": "stdout",
     "output_type": "stream",
     "text": [
      "Chi-square test statistic: 6.110658166925435\n",
      "p-value: 0.19103526314060296\n",
      "Degrees of freedom: 4\n",
      "Expected frequencies:\n",
      "[[ 96.06217617  83.93782383]\n",
      " [109.40414508  95.59585492]\n",
      " [106.7357513   93.2642487 ]\n",
      " [ 98.73056995  86.26943005]\n",
      " [104.06735751  90.93264249]]\n",
      "Fail to reject the null hypothesis\n"
     ]
    }
   ],
   "source": [
    "import numpy as np\n",
    "from scipy.stats import chi2_contingency\n",
    "\n",
    "# Create the observed frequency table\n",
    "observed = np.array([[100, 80],\n",
    "                     [120, 85],\n",
    "                     [110, 90],\n",
    "                     [90, 95],\n",
    "                     [95, 100]])\n",
    "\n",
    "# Perform the chi-square test\n",
    "chi2, p, dof, expected = chi2_contingency(observed)\n",
    "\n",
    "# Set the significance level (alpha)\n",
    "alpha = 0.05\n",
    "\n",
    "# Print the test statistic, p-value, and expected frequencies\n",
    "print(\"Chi-square test statistic:\", chi2)\n",
    "print(\"p-value:\", p)\n",
    "print(\"Degrees of freedom:\", dof)\n",
    "print(\"Expected frequencies:\")\n",
    "print(expected)\n",
    "\n",
    "# Compare p-value with significance level\n",
    "if p < alpha:\n",
    "    print(\"Reject the null hypothesis\")\n",
    "else:\n",
    "    print(\"Fail to reject the null hypothesis\")"
   ]
  },
  {
   "cell_type": "markdown",
   "id": "d5ee6003",
   "metadata": {},
   "source": [
    "Therefore, based on the given data, we do not have enough evidence to conclude that there is a significant difference in the click-through rates between the two designs."
   ]
  },
  {
   "cell_type": "markdown",
   "id": "994c2696",
   "metadata": {},
   "source": [
    "### 13. Scenario: A survey is conducted to measure customer satisfaction with a product on a scale of 1 to 10. The data collected is as follows:\n",
    "    [7, 9, 6, 8, 10, 7, 8, 9, 7, 8]\n",
    "    Calculate the 95% confidence interval for the population mean satisfaction score.\n"
   ]
  },
  {
   "cell_type": "markdown",
   "id": "5dd5374c",
   "metadata": {},
   "source": [
    "To calculate the 95% confidence interval for the population mean satisfaction score, we can use the formula for a confidence interval when the population standard deviation is unknown. We'll use the t-distribution for this calculation. Here are the steps:"
   ]
  },
  {
   "cell_type": "markdown",
   "id": "d43e485f",
   "metadata": {},
   "source": [
    "#### Step 1: Collect the data:"
   ]
  },
  {
   "cell_type": "code",
   "execution_count": 19,
   "id": "f65d506f",
   "metadata": {},
   "outputs": [],
   "source": [
    "data = [7, 9, 6, 8, 10, 7, 8, 9, 7, 8]"
   ]
  },
  {
   "cell_type": "markdown",
   "id": "52faca43",
   "metadata": {},
   "source": [
    "#### Step 2: Calculate the sample mean:"
   ]
  },
  {
   "cell_type": "code",
   "execution_count": 20,
   "id": "be1b1098",
   "metadata": {},
   "outputs": [
    {
     "name": "stdout",
     "output_type": "stream",
     "text": [
      "7.9\n"
     ]
    }
   ],
   "source": [
    "print(mean(data))"
   ]
  },
  {
   "cell_type": "markdown",
   "id": "63bcca51",
   "metadata": {},
   "source": [
    "#### Step 3: Calculate the sample standard deviation:"
   ]
  },
  {
   "cell_type": "code",
   "execution_count": 21,
   "id": "faa71d1f",
   "metadata": {},
   "outputs": [
    {
     "data": {
      "text/plain": [
       "1.1972189997378648"
      ]
     },
     "execution_count": 21,
     "metadata": {},
     "output_type": "execute_result"
    }
   ],
   "source": [
    "statistics.stdev(data)"
   ]
  },
  {
   "cell_type": "markdown",
   "id": "62f4bced",
   "metadata": {},
   "source": [
    "#### Step 4: Determine the critical value:\n",
    "Determine the critical value corresponding to the desired confidence level. For a 95% confidence interval, with a two-tailed test, the critical value can be obtained from the t-distribution with n-1 degrees of freedom (where n is the sample size). For a sample size of 10 and a 95% confidence level, the critical value is approximately 2.262."
   ]
  },
  {
   "cell_type": "markdown",
   "id": "3a0c8250",
   "metadata": {},
   "source": [
    "#### Step 5: Calculate the margin of error:\n",
    "Calculate the margin of error, which represents the range around the sample mean within which we expect the population mean to fall with the desired confidence level. The margin of error is obtained by multiplying the critical value by the standard error of the mean."
   ]
  },
  {
   "cell_type": "markdown",
   "id": "166b9b96",
   "metadata": {},
   "source": [
    "Standard Error of the Mean (SEM) = s / sqrt(n)\n"
   ]
  },
  {
   "cell_type": "code",
   "execution_count": 26,
   "id": "7b7db45a",
   "metadata": {},
   "outputs": [
    {
     "data": {
      "text/plain": [
       "0.378524635922155"
      ]
     },
     "execution_count": 26,
     "metadata": {},
     "output_type": "execute_result"
    }
   ],
   "source": [
    "SEM = 1.197/math.sqrt(10)\n",
    "SEM"
   ]
  },
  {
   "cell_type": "markdown",
   "id": "f48d18af",
   "metadata": {},
   "source": [
    "Margin of Error = Critical Value * SEM"
   ]
  },
  {
   "cell_type": "code",
   "execution_count": 27,
   "id": "c323d275",
   "metadata": {},
   "outputs": [
    {
     "data": {
      "text/plain": [
       "0.8562227264559147"
      ]
     },
     "execution_count": 27,
     "metadata": {},
     "output_type": "execute_result"
    }
   ],
   "source": [
    "Margin_of_error = 2.262*SEM\n",
    "Margin_of_error"
   ]
  },
  {
   "cell_type": "markdown",
   "id": "11b03479",
   "metadata": {},
   "source": [
    "#### Step 6: Calculate the confidence interval:\n",
    "Calculate the lower and upper bounds of the confidence interval by subtracting and adding the margin of error, respectively, to the sample mean.\n",
    "* Lower Bound = Sample Mean - Margin of Error\n",
    "* Upper Bound = Sample Mean + Margin of Error"
   ]
  },
  {
   "cell_type": "code",
   "execution_count": 29,
   "id": "7b1322dc",
   "metadata": {},
   "outputs": [
    {
     "data": {
      "text/plain": [
       "7.043777273544086"
      ]
     },
     "execution_count": 29,
     "metadata": {},
     "output_type": "execute_result"
    }
   ],
   "source": [
    "Lower_Bound = 7.9 - Margin_of_error\n",
    "Lower_Bound"
   ]
  },
  {
   "cell_type": "code",
   "execution_count": 30,
   "id": "68cd176d",
   "metadata": {},
   "outputs": [
    {
     "data": {
      "text/plain": [
       "8.756222726455915"
      ]
     },
     "execution_count": 30,
     "metadata": {},
     "output_type": "execute_result"
    }
   ],
   "source": [
    "Upper_Bound = 7.9 + Margin_of_error\n",
    "Upper_Bound"
   ]
  },
  {
   "cell_type": "markdown",
   "id": "d9572fc1",
   "metadata": {},
   "source": [
    "The 95% confidence interval for the population mean satisfaction score is approximately [7.043, 8.756]. This means that we can be 95% confident that the true population mean satisfaction score falls within this interval."
   ]
  },
  {
   "cell_type": "markdown",
   "id": "449bbb7e",
   "metadata": {},
   "source": [
    "### 14. Scenario: A company wants to analyze the effect of temperature on product performance. The data collected is as follows:\n",
    "    Temperature (in degrees Celsius): [20, 22, 23, 19, 21]\n",
    "    Performance (on a scale of 1 to 10): [8, 7, 9, 6, 8]\n",
    "    Perform a simple linear regression to predict performance based on temperature.\n"
   ]
  },
  {
   "cell_type": "code",
   "execution_count": 31,
   "id": "5394c132",
   "metadata": {},
   "outputs": [],
   "source": [
    "import numpy as np\n",
    "from sklearn.linear_model import LinearRegression"
   ]
  },
  {
   "cell_type": "code",
   "execution_count": 32,
   "id": "d8518819",
   "metadata": {},
   "outputs": [],
   "source": [
    "# Collect the data\n",
    "temperature = np.array([20, 22, 23, 19, 21]).reshape(-1, 1)\n",
    "performance = np.array([8, 7, 9, 6, 8])"
   ]
  },
  {
   "cell_type": "code",
   "execution_count": 33,
   "id": "d4f6ca78",
   "metadata": {},
   "outputs": [
    {
     "data": {
      "text/html": [
       "<style>#sk-container-id-1 {color: black;background-color: white;}#sk-container-id-1 pre{padding: 0;}#sk-container-id-1 div.sk-toggleable {background-color: white;}#sk-container-id-1 label.sk-toggleable__label {cursor: pointer;display: block;width: 100%;margin-bottom: 0;padding: 0.3em;box-sizing: border-box;text-align: center;}#sk-container-id-1 label.sk-toggleable__label-arrow:before {content: \"▸\";float: left;margin-right: 0.25em;color: #696969;}#sk-container-id-1 label.sk-toggleable__label-arrow:hover:before {color: black;}#sk-container-id-1 div.sk-estimator:hover label.sk-toggleable__label-arrow:before {color: black;}#sk-container-id-1 div.sk-toggleable__content {max-height: 0;max-width: 0;overflow: hidden;text-align: left;background-color: #f0f8ff;}#sk-container-id-1 div.sk-toggleable__content pre {margin: 0.2em;color: black;border-radius: 0.25em;background-color: #f0f8ff;}#sk-container-id-1 input.sk-toggleable__control:checked~div.sk-toggleable__content {max-height: 200px;max-width: 100%;overflow: auto;}#sk-container-id-1 input.sk-toggleable__control:checked~label.sk-toggleable__label-arrow:before {content: \"▾\";}#sk-container-id-1 div.sk-estimator input.sk-toggleable__control:checked~label.sk-toggleable__label {background-color: #d4ebff;}#sk-container-id-1 div.sk-label input.sk-toggleable__control:checked~label.sk-toggleable__label {background-color: #d4ebff;}#sk-container-id-1 input.sk-hidden--visually {border: 0;clip: rect(1px 1px 1px 1px);clip: rect(1px, 1px, 1px, 1px);height: 1px;margin: -1px;overflow: hidden;padding: 0;position: absolute;width: 1px;}#sk-container-id-1 div.sk-estimator {font-family: monospace;background-color: #f0f8ff;border: 1px dotted black;border-radius: 0.25em;box-sizing: border-box;margin-bottom: 0.5em;}#sk-container-id-1 div.sk-estimator:hover {background-color: #d4ebff;}#sk-container-id-1 div.sk-parallel-item::after {content: \"\";width: 100%;border-bottom: 1px solid gray;flex-grow: 1;}#sk-container-id-1 div.sk-label:hover label.sk-toggleable__label {background-color: #d4ebff;}#sk-container-id-1 div.sk-serial::before {content: \"\";position: absolute;border-left: 1px solid gray;box-sizing: border-box;top: 0;bottom: 0;left: 50%;z-index: 0;}#sk-container-id-1 div.sk-serial {display: flex;flex-direction: column;align-items: center;background-color: white;padding-right: 0.2em;padding-left: 0.2em;position: relative;}#sk-container-id-1 div.sk-item {position: relative;z-index: 1;}#sk-container-id-1 div.sk-parallel {display: flex;align-items: stretch;justify-content: center;background-color: white;position: relative;}#sk-container-id-1 div.sk-item::before, #sk-container-id-1 div.sk-parallel-item::before {content: \"\";position: absolute;border-left: 1px solid gray;box-sizing: border-box;top: 0;bottom: 0;left: 50%;z-index: -1;}#sk-container-id-1 div.sk-parallel-item {display: flex;flex-direction: column;z-index: 1;position: relative;background-color: white;}#sk-container-id-1 div.sk-parallel-item:first-child::after {align-self: flex-end;width: 50%;}#sk-container-id-1 div.sk-parallel-item:last-child::after {align-self: flex-start;width: 50%;}#sk-container-id-1 div.sk-parallel-item:only-child::after {width: 0;}#sk-container-id-1 div.sk-dashed-wrapped {border: 1px dashed gray;margin: 0 0.4em 0.5em 0.4em;box-sizing: border-box;padding-bottom: 0.4em;background-color: white;}#sk-container-id-1 div.sk-label label {font-family: monospace;font-weight: bold;display: inline-block;line-height: 1.2em;}#sk-container-id-1 div.sk-label-container {text-align: center;}#sk-container-id-1 div.sk-container {/* jupyter's `normalize.less` sets `[hidden] { display: none; }` but bootstrap.min.css set `[hidden] { display: none !important; }` so we also need the `!important` here to be able to override the default hidden behavior on the sphinx rendered scikit-learn.org. See: https://github.com/scikit-learn/scikit-learn/issues/21755 */display: inline-block !important;position: relative;}#sk-container-id-1 div.sk-text-repr-fallback {display: none;}</style><div id=\"sk-container-id-1\" class=\"sk-top-container\"><div class=\"sk-text-repr-fallback\"><pre>LinearRegression()</pre><b>In a Jupyter environment, please rerun this cell to show the HTML representation or trust the notebook. <br />On GitHub, the HTML representation is unable to render, please try loading this page with nbviewer.org.</b></div><div class=\"sk-container\" hidden><div class=\"sk-item\"><div class=\"sk-estimator sk-toggleable\"><input class=\"sk-toggleable__control sk-hidden--visually\" id=\"sk-estimator-id-1\" type=\"checkbox\" checked><label for=\"sk-estimator-id-1\" class=\"sk-toggleable__label sk-toggleable__label-arrow\">LinearRegression</label><div class=\"sk-toggleable__content\"><pre>LinearRegression()</pre></div></div></div></div></div>"
      ],
      "text/plain": [
       "LinearRegression()"
      ]
     },
     "execution_count": 33,
     "metadata": {},
     "output_type": "execute_result"
    }
   ],
   "source": [
    "# Create and fit the linear regression model\n",
    "regression_model = LinearRegression()\n",
    "regression_model.fit(temperature, performance)"
   ]
  },
  {
   "cell_type": "code",
   "execution_count": 40,
   "id": "5615799f",
   "metadata": {},
   "outputs": [],
   "source": [
    "# Get the regression parameters\n",
    "intercept = regression_model.intercept_\n",
    "slope = regression_model.coef_[0]"
   ]
  },
  {
   "cell_type": "code",
   "execution_count": 41,
   "id": "e075409c",
   "metadata": {},
   "outputs": [
    {
     "name": "stdout",
     "output_type": "stream",
     "text": [
      "Regression model equation: Performance = -2.90 + 0.50 * Temperature\n"
     ]
    }
   ],
   "source": [
    "# Build the regression model equation\n",
    "equation = f\"Performance = {intercept:.2f} + {slope:.2f} * Temperature\"\n",
    "print(\"Regression model equation:\", equation)"
   ]
  },
  {
   "cell_type": "code",
   "execution_count": 43,
   "id": "0a87bc5b",
   "metadata": {},
   "outputs": [],
   "source": [
    "# Perform prediction\n",
    "new_temperature = np.array([18, 24]).reshape(-1, 1)\n",
    "predicted_performance = regression_model.predict(new_temperature)"
   ]
  },
  {
   "cell_type": "code",
   "execution_count": 46,
   "id": "480c8651",
   "metadata": {},
   "outputs": [
    {
     "name": "stdout",
     "output_type": "stream",
     "text": [
      "Temperature: 18°C, Predicted Performance: 6.10\n",
      "Temperature: 24°C, Predicted Performance: 9.10\n"
     ]
    }
   ],
   "source": [
    "# Print the predicted performance\n",
    "for temp, perf in zip(new_temperature, predicted_performance):\n",
    "    print(f\"Temperature: {temp[0]}°C, Predicted Performance: {perf:.2f}\")"
   ]
  },
  {
   "cell_type": "markdown",
   "id": "ab0cf3fe",
   "metadata": {},
   "source": [
    "### 15. Scenario: A study is conducted to compare the preferences of two groups of participants. The preferences are measured on a Likert scale from 1 to 5. The data collected is as follows:\n",
    "    Group A: [4, 3, 5, 2, 4]\n",
    "    Group B: [3, 2, 4, 3, 3]\n",
    "    Perform a Mann-Whitney U test to determine if there is a significant difference in the median preferences between the two groups.\n"
   ]
  },
  {
   "cell_type": "markdown",
   "id": "181312d7",
   "metadata": {},
   "source": [
    "#### Step 1: State the null and alternative hypotheses:\n",
    "\n",
    "* Null hypothesis (H₀): There is no significant difference in the median preferences between Group A and Group B.\n",
    "* Alternative hypothesis (H₁): There is a significant difference in the median preferences between Group A and Group B."
   ]
  },
  {
   "cell_type": "markdown",
   "id": "acc67e6e",
   "metadata": {},
   "source": [
    "#### Step 2: Rank the combined data from lowest to highest, assigning the ranks without regard to the group membership. In case of ties, assign the average rank.\n",
    "Combined ranked data: [2, 3, 3, 3, 4, 4, 5]"
   ]
  },
  {
   "cell_type": "markdown",
   "id": "4b662c49",
   "metadata": {},
   "source": [
    "#### Step 3: Calculate the sum of ranks for each group.\n",
    "Group A sum of ranks = 3 + 5 + 7 + 1 + 4 = 20\n",
    "\n",
    "Group B sum of ranks = 2 + 6 + 3 + 2 + 2 = 15"
   ]
  },
  {
   "cell_type": "markdown",
   "id": "c2480e63",
   "metadata": {},
   "source": [
    "### 16. Scenario: A company wants to analyze the distribution of customer ages. The data collected is as follows:\n",
    "    [25, 30, 35, 40, 45, 50, 55, 60, 65, 70]\n",
    "    Calculate the interquartile range (IQR) of the ages.\n"
   ]
  },
  {
   "cell_type": "markdown",
   "id": "b3026355",
   "metadata": {},
   "source": [
    "#### Step 1: Arrange the data in ascending order:"
   ]
  },
  {
   "cell_type": "code",
   "execution_count": 4,
   "id": "1d9cb2b0",
   "metadata": {},
   "outputs": [],
   "source": [
    "Data = [25, 30, 35, 40, 45, 50, 55, 60, 65, 70]"
   ]
  },
  {
   "cell_type": "code",
   "execution_count": 5,
   "id": "86b45182",
   "metadata": {},
   "outputs": [],
   "source": [
    "Data.sort()"
   ]
  },
  {
   "cell_type": "code",
   "execution_count": 6,
   "id": "016b6e3e",
   "metadata": {},
   "outputs": [
    {
     "data": {
      "text/plain": [
       "[25, 30, 35, 40, 45, 50, 55, 60, 65, 70]"
      ]
     },
     "execution_count": 6,
     "metadata": {},
     "output_type": "execute_result"
    }
   ],
   "source": [
    "Data"
   ]
  },
  {
   "cell_type": "markdown",
   "id": "38cac941",
   "metadata": {},
   "source": [
    "#### Step 2: Calculate the first quartile (Q₁), which is the median of the lower half of the data. Exclude the median itself from the lower half.\n",
    "Lower half of the data: [25, 30, 35, 40, 45]\n",
    "\n",
    "Q₁ = Median of the lower half = 35"
   ]
  },
  {
   "cell_type": "markdown",
   "id": "51419756",
   "metadata": {},
   "source": [
    "#### Step 3: Calculate the third quartile (Q₃), which is the median of the upper half of the data. Exclude the median itself from the upper half.\n",
    "Upper half of the data: [50, 55, 60, 65, 70]\n",
    "\n",
    "Q₃ = Median of the upper half = 60"
   ]
  },
  {
   "cell_type": "markdown",
   "id": "d00b417b",
   "metadata": {},
   "source": [
    "#### Step 4: Calculate the interquartile range (IQR) using the formula:\n",
    "IQR = Q₃ - Q₁\n",
    "\n",
    "IQR = 60 - 35 = 25"
   ]
  },
  {
   "cell_type": "markdown",
   "id": "ec15e401",
   "metadata": {},
   "source": [
    "Therefore, interquartile range (IQR) of the ages is 25."
   ]
  }
 ],
 "metadata": {
  "kernelspec": {
   "display_name": "py",
   "language": "python",
   "name": "myenv"
  },
  "language_info": {
   "codemirror_mode": {
    "name": "ipython",
    "version": 3
   },
   "file_extension": ".py",
   "mimetype": "text/x-python",
   "name": "python",
   "nbconvert_exporter": "python",
   "pygments_lexer": "ipython3",
   "version": "3.10.9"
  }
 },
 "nbformat": 4,
 "nbformat_minor": 5
}
